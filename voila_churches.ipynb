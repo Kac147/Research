{
  "nbformat": 4,
  "nbformat_minor": 0,
  "metadata": {
    "colab": {
      "name": "voila_churches",
      "provenance": [],
      "authorship_tag": "ABX9TyPAwUplrXr02qutZbxgF9HM",
      "include_colab_link": true
    },
    "kernelspec": {
      "name": "python3",
      "display_name": "Python 3"
    },
    "widgets": {
      "application/vnd.jupyter.widget-state+json": {
        "1dd47dccfebd4cc0adefd070ca2e8c92": {
          "model_module": "@jupyter-widgets/controls",
          "model_name": "VBoxModel",
          "state": {
            "_view_name": "VBoxView",
            "_dom_classes": [],
            "_model_name": "VBoxModel",
            "_view_module": "@jupyter-widgets/controls",
            "_model_module_version": "1.5.0",
            "_view_count": null,
            "_view_module_version": "1.5.0",
            "box_style": "",
            "layout": "IPY_MODEL_2048a624d40b4904b3707e93a44dfab0",
            "_model_module": "@jupyter-widgets/controls",
            "children": [
              "IPY_MODEL_3188196fbe714d988dbccae273cff40f",
              "IPY_MODEL_3fe78030f946473a9ca2886e8048281a",
              "IPY_MODEL_471da74fa3a04f0392b28dfc76d9ce38",
              "IPY_MODEL_864b37147b7f43c2899657b7a579c3dc",
              "IPY_MODEL_91dce7626ee54bfda87b871a5856a67f"
            ]
          }
        },
        "2048a624d40b4904b3707e93a44dfab0": {
          "model_module": "@jupyter-widgets/base",
          "model_name": "LayoutModel",
          "state": {
            "_view_name": "LayoutView",
            "grid_template_rows": null,
            "right": null,
            "justify_content": null,
            "_view_module": "@jupyter-widgets/base",
            "overflow": null,
            "_model_module_version": "1.2.0",
            "_view_count": null,
            "flex_flow": null,
            "width": null,
            "min_width": null,
            "border": null,
            "align_items": null,
            "bottom": null,
            "_model_module": "@jupyter-widgets/base",
            "top": null,
            "grid_column": null,
            "overflow_y": null,
            "overflow_x": null,
            "grid_auto_flow": null,
            "grid_area": null,
            "grid_template_columns": null,
            "flex": null,
            "_model_name": "LayoutModel",
            "justify_items": null,
            "grid_row": null,
            "max_height": null,
            "align_content": null,
            "visibility": null,
            "align_self": null,
            "height": null,
            "min_height": null,
            "padding": null,
            "grid_auto_rows": null,
            "grid_gap": null,
            "max_width": null,
            "order": null,
            "_view_module_version": "1.2.0",
            "grid_template_areas": null,
            "object_position": null,
            "object_fit": null,
            "grid_auto_columns": null,
            "margin": null,
            "display": null,
            "left": null
          }
        },
        "3188196fbe714d988dbccae273cff40f": {
          "model_module": "@jupyter-widgets/controls",
          "model_name": "LabelModel",
          "state": {
            "_view_name": "LabelView",
            "style": "IPY_MODEL_9af2436e0e214acca7ac0da992be9a40",
            "_dom_classes": [],
            "description": "",
            "_model_name": "LabelModel",
            "placeholder": "​",
            "_view_module": "@jupyter-widgets/controls",
            "_model_module_version": "1.5.0",
            "value": "Select your church (romanesque, gothic, renaissance)",
            "_view_count": null,
            "_view_module_version": "1.5.0",
            "description_tooltip": null,
            "_model_module": "@jupyter-widgets/controls",
            "layout": "IPY_MODEL_7273db167349415c896624f46c85c3d9"
          }
        },
        "3fe78030f946473a9ca2886e8048281a": {
          "model_module": "@jupyter-widgets/controls",
          "model_name": "FileUploadModel",
          "state": {
            "_view_name": "FileUploadView",
            "_counter": 1,
            "style": "IPY_MODEL_e2056b990f6e4f5e8cf830934c0f72d4",
            "_dom_classes": [],
            "description": "Upload",
            "multiple": false,
            "_model_name": "FileUploadModel",
            "data": [
              null
            ],
            "button_style": "",
            "_view_module": "@jupyter-widgets/controls",
            "_model_module_version": "1.5.0",
            "accept": "",
            "_view_count": null,
            "disabled": false,
            "_view_module_version": "1.5.0",
            "error": "",
            "description_tooltip": null,
            "metadata": [
              {
                "name": "church.jpg",
                "type": "image/jpeg",
                "size": 6571894,
                "lastModified": 1602632509080
              }
            ],
            "_model_module": "@jupyter-widgets/controls",
            "layout": "IPY_MODEL_49fc488cdc6d433bbf05d162e53ad433",
            "icon": "upload"
          }
        },
        "471da74fa3a04f0392b28dfc76d9ce38": {
          "model_module": "@jupyter-widgets/controls",
          "model_name": "ButtonModel",
          "state": {
            "_view_name": "ButtonView",
            "style": "IPY_MODEL_9575fc00639847fda3060b9562fb685e",
            "_dom_classes": [],
            "description": "Classify",
            "_model_name": "ButtonModel",
            "button_style": "",
            "_view_module": "@jupyter-widgets/controls",
            "_model_module_version": "1.5.0",
            "tooltip": "",
            "_view_count": null,
            "disabled": false,
            "_view_module_version": "1.5.0",
            "layout": "IPY_MODEL_7bac3aef4fcb41259905204193f825b8",
            "_model_module": "@jupyter-widgets/controls",
            "icon": ""
          }
        },
        "864b37147b7f43c2899657b7a579c3dc": {
          "model_module": "@jupyter-widgets/output",
          "model_name": "OutputModel",
          "state": {
            "_view_name": "OutputView",
            "msg_id": "",
            "_dom_classes": [],
            "_model_name": "OutputModel",
            "outputs": [
              {
                "output_type": "display_data",
                "metadata": {
                  "tags": []
                },
                "image/png": "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\n",
                "text/plain": "<PIL.Image.Image image mode=RGB size=128x77 at 0x7F708F833400>"
              }
            ],
            "_view_module": "@jupyter-widgets/output",
            "_model_module_version": "1.0.0",
            "_view_count": null,
            "_view_module_version": "1.0.0",
            "layout": "IPY_MODEL_f41a5decfa464aa481cdcf929fe37fd7",
            "_model_module": "@jupyter-widgets/output"
          }
        },
        "91dce7626ee54bfda87b871a5856a67f": {
          "model_module": "@jupyter-widgets/controls",
          "model_name": "LabelModel",
          "state": {
            "_view_name": "LabelView",
            "style": "IPY_MODEL_36f6f7e4a3a94ec793f96da3bab0bc7f",
            "_dom_classes": [],
            "description": "",
            "_model_name": "LabelModel",
            "placeholder": "​",
            "_view_module": "@jupyter-widgets/controls",
            "_model_module_version": "1.5.0",
            "value": "Prediction: romanesque; Probability: 0.7368",
            "_view_count": null,
            "_view_module_version": "1.5.0",
            "description_tooltip": null,
            "_model_module": "@jupyter-widgets/controls",
            "layout": "IPY_MODEL_397c6121bd3d48b597ca21a41b223b2f"
          }
        },
        "9af2436e0e214acca7ac0da992be9a40": {
          "model_module": "@jupyter-widgets/controls",
          "model_name": "DescriptionStyleModel",
          "state": {
            "_view_name": "StyleView",
            "_model_name": "DescriptionStyleModel",
            "description_width": "",
            "_view_module": "@jupyter-widgets/base",
            "_model_module_version": "1.5.0",
            "_view_count": null,
            "_view_module_version": "1.2.0",
            "_model_module": "@jupyter-widgets/controls"
          }
        },
        "7273db167349415c896624f46c85c3d9": {
          "model_module": "@jupyter-widgets/base",
          "model_name": "LayoutModel",
          "state": {
            "_view_name": "LayoutView",
            "grid_template_rows": null,
            "right": null,
            "justify_content": null,
            "_view_module": "@jupyter-widgets/base",
            "overflow": null,
            "_model_module_version": "1.2.0",
            "_view_count": null,
            "flex_flow": null,
            "width": null,
            "min_width": null,
            "border": null,
            "align_items": null,
            "bottom": null,
            "_model_module": "@jupyter-widgets/base",
            "top": null,
            "grid_column": null,
            "overflow_y": null,
            "overflow_x": null,
            "grid_auto_flow": null,
            "grid_area": null,
            "grid_template_columns": null,
            "flex": null,
            "_model_name": "LayoutModel",
            "justify_items": null,
            "grid_row": null,
            "max_height": null,
            "align_content": null,
            "visibility": null,
            "align_self": null,
            "height": null,
            "min_height": null,
            "padding": null,
            "grid_auto_rows": null,
            "grid_gap": null,
            "max_width": null,
            "order": null,
            "_view_module_version": "1.2.0",
            "grid_template_areas": null,
            "object_position": null,
            "object_fit": null,
            "grid_auto_columns": null,
            "margin": null,
            "display": null,
            "left": null
          }
        },
        "e2056b990f6e4f5e8cf830934c0f72d4": {
          "model_module": "@jupyter-widgets/controls",
          "model_name": "ButtonStyleModel",
          "state": {
            "_view_name": "StyleView",
            "_model_name": "ButtonStyleModel",
            "_view_module": "@jupyter-widgets/base",
            "_model_module_version": "1.5.0",
            "_view_count": null,
            "button_color": null,
            "font_weight": "",
            "_view_module_version": "1.2.0",
            "_model_module": "@jupyter-widgets/controls"
          }
        },
        "49fc488cdc6d433bbf05d162e53ad433": {
          "model_module": "@jupyter-widgets/base",
          "model_name": "LayoutModel",
          "state": {
            "_view_name": "LayoutView",
            "grid_template_rows": null,
            "right": null,
            "justify_content": null,
            "_view_module": "@jupyter-widgets/base",
            "overflow": null,
            "_model_module_version": "1.2.0",
            "_view_count": null,
            "flex_flow": null,
            "width": null,
            "min_width": null,
            "border": null,
            "align_items": null,
            "bottom": null,
            "_model_module": "@jupyter-widgets/base",
            "top": null,
            "grid_column": null,
            "overflow_y": null,
            "overflow_x": null,
            "grid_auto_flow": null,
            "grid_area": null,
            "grid_template_columns": null,
            "flex": null,
            "_model_name": "LayoutModel",
            "justify_items": null,
            "grid_row": null,
            "max_height": null,
            "align_content": null,
            "visibility": null,
            "align_self": null,
            "height": null,
            "min_height": null,
            "padding": null,
            "grid_auto_rows": null,
            "grid_gap": null,
            "max_width": null,
            "order": null,
            "_view_module_version": "1.2.0",
            "grid_template_areas": null,
            "object_position": null,
            "object_fit": null,
            "grid_auto_columns": null,
            "margin": null,
            "display": null,
            "left": null
          }
        },
        "9575fc00639847fda3060b9562fb685e": {
          "model_module": "@jupyter-widgets/controls",
          "model_name": "ButtonStyleModel",
          "state": {
            "_view_name": "StyleView",
            "_model_name": "ButtonStyleModel",
            "_view_module": "@jupyter-widgets/base",
            "_model_module_version": "1.5.0",
            "_view_count": null,
            "button_color": null,
            "font_weight": "",
            "_view_module_version": "1.2.0",
            "_model_module": "@jupyter-widgets/controls"
          }
        },
        "7bac3aef4fcb41259905204193f825b8": {
          "model_module": "@jupyter-widgets/base",
          "model_name": "LayoutModel",
          "state": {
            "_view_name": "LayoutView",
            "grid_template_rows": null,
            "right": null,
            "justify_content": null,
            "_view_module": "@jupyter-widgets/base",
            "overflow": null,
            "_model_module_version": "1.2.0",
            "_view_count": null,
            "flex_flow": null,
            "width": null,
            "min_width": null,
            "border": null,
            "align_items": null,
            "bottom": null,
            "_model_module": "@jupyter-widgets/base",
            "top": null,
            "grid_column": null,
            "overflow_y": null,
            "overflow_x": null,
            "grid_auto_flow": null,
            "grid_area": null,
            "grid_template_columns": null,
            "flex": null,
            "_model_name": "LayoutModel",
            "justify_items": null,
            "grid_row": null,
            "max_height": null,
            "align_content": null,
            "visibility": null,
            "align_self": null,
            "height": null,
            "min_height": null,
            "padding": null,
            "grid_auto_rows": null,
            "grid_gap": null,
            "max_width": null,
            "order": null,
            "_view_module_version": "1.2.0",
            "grid_template_areas": null,
            "object_position": null,
            "object_fit": null,
            "grid_auto_columns": null,
            "margin": null,
            "display": null,
            "left": null
          }
        },
        "36f6f7e4a3a94ec793f96da3bab0bc7f": {
          "model_module": "@jupyter-widgets/controls",
          "model_name": "DescriptionStyleModel",
          "state": {
            "_view_name": "StyleView",
            "_model_name": "DescriptionStyleModel",
            "description_width": "",
            "_view_module": "@jupyter-widgets/base",
            "_model_module_version": "1.5.0",
            "_view_count": null,
            "_view_module_version": "1.2.0",
            "_model_module": "@jupyter-widgets/controls"
          }
        },
        "397c6121bd3d48b597ca21a41b223b2f": {
          "model_module": "@jupyter-widgets/base",
          "model_name": "LayoutModel",
          "state": {
            "_view_name": "LayoutView",
            "grid_template_rows": null,
            "right": null,
            "justify_content": null,
            "_view_module": "@jupyter-widgets/base",
            "overflow": null,
            "_model_module_version": "1.2.0",
            "_view_count": null,
            "flex_flow": null,
            "width": null,
            "min_width": null,
            "border": null,
            "align_items": null,
            "bottom": null,
            "_model_module": "@jupyter-widgets/base",
            "top": null,
            "grid_column": null,
            "overflow_y": null,
            "overflow_x": null,
            "grid_auto_flow": null,
            "grid_area": null,
            "grid_template_columns": null,
            "flex": null,
            "_model_name": "LayoutModel",
            "justify_items": null,
            "grid_row": null,
            "max_height": null,
            "align_content": null,
            "visibility": null,
            "align_self": null,
            "height": null,
            "min_height": null,
            "padding": null,
            "grid_auto_rows": null,
            "grid_gap": null,
            "max_width": null,
            "order": null,
            "_view_module_version": "1.2.0",
            "grid_template_areas": null,
            "object_position": null,
            "object_fit": null,
            "grid_auto_columns": null,
            "margin": null,
            "display": null,
            "left": null
          }
        },
        "f41a5decfa464aa481cdcf929fe37fd7": {
          "model_module": "@jupyter-widgets/base",
          "model_name": "LayoutModel",
          "state": {
            "_view_name": "LayoutView",
            "grid_template_rows": null,
            "right": null,
            "justify_content": null,
            "_view_module": "@jupyter-widgets/base",
            "overflow": null,
            "_model_module_version": "1.2.0",
            "_view_count": null,
            "flex_flow": null,
            "width": null,
            "min_width": null,
            "border": null,
            "align_items": null,
            "bottom": null,
            "_model_module": "@jupyter-widgets/base",
            "top": null,
            "grid_column": null,
            "overflow_y": null,
            "overflow_x": null,
            "grid_auto_flow": null,
            "grid_area": null,
            "grid_template_columns": null,
            "flex": null,
            "_model_name": "LayoutModel",
            "justify_items": null,
            "grid_row": null,
            "max_height": null,
            "align_content": null,
            "visibility": null,
            "align_self": null,
            "height": null,
            "min_height": null,
            "padding": null,
            "grid_auto_rows": null,
            "grid_gap": null,
            "max_width": null,
            "order": null,
            "_view_module_version": "1.2.0",
            "grid_template_areas": null,
            "object_position": null,
            "object_fit": null,
            "grid_auto_columns": null,
            "margin": null,
            "display": null,
            "left": null
          }
        }
      }
    }
  },
  "cells": [
    {
      "cell_type": "markdown",
      "metadata": {
        "id": "view-in-github",
        "colab_type": "text"
      },
      "source": [
        "<a href=\"https://colab.research.google.com/github/Kac147/Research/blob/master/voila_churches.ipynb\" target=\"_parent\"><img src=\"https://colab.research.google.com/assets/colab-badge.svg\" alt=\"Open In Colab\"/></a>"
      ]
    },
    {
      "cell_type": "code",
      "metadata": {
        "id": "t6msgfZxN3ib"
      },
      "source": [
        "from fastai.vision.all import *\n",
        "from fastai.vision.widgets import *"
      ],
      "execution_count": 17,
      "outputs": []
    },
    {
      "cell_type": "code",
      "metadata": {
        "id": "jCcJ6fEzN5Da"
      },
      "source": [
        "path = Path()\n",
        "learn_inf = load_learner(path/'export.pkl', cpu=True)\n",
        "btn_upload = widgets.FileUpload()\n",
        "out_pl = widgets.Output()\n",
        "lbl_pred = widgets.Label()\n",
        "btn_run = widgets.Button(description='Classify')"
      ],
      "execution_count": 18,
      "outputs": []
    },
    {
      "cell_type": "code",
      "metadata": {
        "id": "nCo-QQtTPwoW"
      },
      "source": [
        "def on_click_classify(change):\n",
        "    lbl_pred.value = ''\n",
        "    img = PILImage.create(btn_upload.data[-1])\n",
        "    out_pl.clear_output()\n",
        "    with out_pl: display(img.to_thumb(128,128))\n",
        "    pred,pred_idx,probs = learn_inf.predict(img)\n",
        "    lbl_pred.value = f'Prediction: {pred}; Probability: {probs[pred_idx]:.04f}'"
      ],
      "execution_count": 19,
      "outputs": []
    },
    {
      "cell_type": "code",
      "metadata": {
        "id": "51ywMmKBOb6T"
      },
      "source": [
        "btn_upload.observe(on_data_change, names=['data'])"
      ],
      "execution_count": 20,
      "outputs": []
    },
    {
      "cell_type": "code",
      "metadata": {
        "id": "hCw2Vx0KOfNW",
        "outputId": "45f8b2c7-bfec-4a7e-dd6d-c2d71bed1c9d",
        "colab": {
          "base_uri": "https://localhost:8080/",
          "height": 222,
          "referenced_widgets": [
            "1dd47dccfebd4cc0adefd070ca2e8c92",
            "2048a624d40b4904b3707e93a44dfab0",
            "3188196fbe714d988dbccae273cff40f",
            "3fe78030f946473a9ca2886e8048281a",
            "471da74fa3a04f0392b28dfc76d9ce38",
            "864b37147b7f43c2899657b7a579c3dc",
            "91dce7626ee54bfda87b871a5856a67f",
            "9af2436e0e214acca7ac0da992be9a40",
            "7273db167349415c896624f46c85c3d9",
            "e2056b990f6e4f5e8cf830934c0f72d4",
            "49fc488cdc6d433bbf05d162e53ad433",
            "9575fc00639847fda3060b9562fb685e",
            "7bac3aef4fcb41259905204193f825b8",
            "36f6f7e4a3a94ec793f96da3bab0bc7f",
            "397c6121bd3d48b597ca21a41b223b2f",
            "f41a5decfa464aa481cdcf929fe37fd7"
          ]
        }
      },
      "source": [
        "VBox([widgets.Label('Select your church (romanesque, gothic, renaissance)'),\n",
        "      btn_upload, btn_run, out_pl, lbl_pred])"
      ],
      "execution_count": 21,
      "outputs": [
        {
          "output_type": "display_data",
          "data": {
            "application/vnd.jupyter.widget-view+json": {
              "model_id": "1dd47dccfebd4cc0adefd070ca2e8c92",
              "version_minor": 0,
              "version_major": 2
            },
            "text/plain": [
              "VBox(children=(Label(value='Select your church (romanesque, gothic, renaissance)'), FileUpload(value={}, descr…"
            ]
          },
          "metadata": {
            "tags": []
          }
        },
        {
          "output_type": "display_data",
          "data": {
            "text/html": [
              ""
            ],
            "text/plain": [
              "<IPython.core.display.HTML object>"
            ]
          },
          "metadata": {
            "tags": []
          }
        }
      ]
    },
    {
      "cell_type": "code",
      "metadata": {
        "id": "2RoXPdUWS2Hb",
        "outputId": "2b5a117b-e857-4e5f-969e-5032b5a8885c",
        "colab": {
          "base_uri": "https://localhost:8080/",
          "height": 1000
        }
      },
      "source": [
        "!pip install voila\n",
        "!jupyter serverextension enable voila —sys-prefix"
      ],
      "execution_count": 22,
      "outputs": [
        {
          "output_type": "stream",
          "text": [
            "Collecting voila\n",
            "\u001b[?25l  Downloading https://files.pythonhosted.org/packages/06/09/d14b97b6f6efe33f8e5fd0e6c95881809c1906aba8c366ec343c9f6ba386/voila-0.2.3-py3-none-any.whl (6.9MB)\n",
            "\u001b[K     |████████████████████████████████| 6.9MB 2.5MB/s \n",
            "\u001b[?25hCollecting jupyter-server<2.0.0,>=0.3.0\n",
            "\u001b[?25l  Downloading https://files.pythonhosted.org/packages/34/3f/627202d2a042c2b1f1f4d9ebc8a932fb06e0a2dee06ebcf0bbca92011ffb/jupyter_server-1.0.5-py3-none-any.whl (196kB)\n",
            "\u001b[K     |████████████████████████████████| 204kB 29.9MB/s \n",
            "\u001b[?25hRequirement already satisfied: nbclient<0.6,>=0.4.0 in /usr/local/lib/python3.6/dist-packages (from voila) (0.5.0)\n",
            "Collecting jupyter-client<7,>=6.1.3\n",
            "\u001b[?25l  Downloading https://files.pythonhosted.org/packages/dc/41/9fa443d5ae8907dd8f7d12146cb0092dc053afd67b5b57e7e8786a328547/jupyter_client-6.1.7-py3-none-any.whl (108kB)\n",
            "\u001b[K     |████████████████████████████████| 112kB 44.5MB/s \n",
            "\u001b[?25hCollecting nbconvert<7,>=6.0.0\n",
            "\u001b[?25l  Downloading https://files.pythonhosted.org/packages/13/2f/acbe7006548f3914456ee47f97a2033b1b2f3daf921b12ac94105d87c163/nbconvert-6.0.7-py3-none-any.whl (552kB)\n",
            "\u001b[K     |████████████████████████████████| 552kB 50.0MB/s \n",
            "\u001b[?25hRequirement already satisfied: pyzmq>=17 in /usr/local/lib/python3.6/dist-packages (from jupyter-server<2.0.0,>=0.3.0->voila) (19.0.2)\n",
            "Requirement already satisfied: jinja2 in /usr/local/lib/python3.6/dist-packages (from jupyter-server<2.0.0,>=0.3.0->voila) (2.11.2)\n",
            "Requirement already satisfied: traitlets>=4.2.1 in /usr/local/lib/python3.6/dist-packages (from jupyter-server<2.0.0,>=0.3.0->voila) (4.3.3)\n",
            "Requirement already satisfied: ipython-genutils in /usr/local/lib/python3.6/dist-packages (from jupyter-server<2.0.0,>=0.3.0->voila) (0.2.0)\n",
            "Requirement already satisfied: tornado>=5.0 in /usr/local/lib/python3.6/dist-packages (from jupyter-server<2.0.0,>=0.3.0->voila) (5.1.1)\n",
            "Requirement already satisfied: nbformat in /usr/local/lib/python3.6/dist-packages (from jupyter-server<2.0.0,>=0.3.0->voila) (5.0.7)\n",
            "Requirement already satisfied: prometheus-client in /usr/local/lib/python3.6/dist-packages (from jupyter-server<2.0.0,>=0.3.0->voila) (0.8.0)\n",
            "Requirement already satisfied: jupyter-core>=4.4.0 in /usr/local/lib/python3.6/dist-packages (from jupyter-server<2.0.0,>=0.3.0->voila) (4.6.3)\n",
            "Requirement already satisfied: Send2Trash in /usr/local/lib/python3.6/dist-packages (from jupyter-server<2.0.0,>=0.3.0->voila) (1.5.0)\n",
            "Requirement already satisfied: terminado>=0.8.3 in /usr/local/lib/python3.6/dist-packages (from jupyter-server<2.0.0,>=0.3.0->voila) (0.9.1)\n",
            "Requirement already satisfied: nest-asyncio in /usr/local/lib/python3.6/dist-packages (from nbclient<0.6,>=0.4.0->voila) (1.4.1)\n",
            "Requirement already satisfied: async-generator in /usr/local/lib/python3.6/dist-packages (from nbclient<0.6,>=0.4.0->voila) (1.10)\n",
            "Requirement already satisfied: python-dateutil>=2.1 in /usr/local/lib/python3.6/dist-packages (from jupyter-client<7,>=6.1.3->voila) (2.8.1)\n",
            "Requirement already satisfied: pygments>=2.4.1 in /usr/local/lib/python3.6/dist-packages (from nbconvert<7,>=6.0.0->voila) (2.6.1)\n",
            "Requirement already satisfied: pandocfilters>=1.4.1 in /usr/local/lib/python3.6/dist-packages (from nbconvert<7,>=6.0.0->voila) (1.4.2)\n",
            "Requirement already satisfied: entrypoints>=0.2.2 in /usr/local/lib/python3.6/dist-packages (from nbconvert<7,>=6.0.0->voila) (0.3)\n",
            "Requirement already satisfied: bleach in /usr/local/lib/python3.6/dist-packages (from nbconvert<7,>=6.0.0->voila) (3.2.1)\n",
            "Requirement already satisfied: mistune<2,>=0.8.1 in /usr/local/lib/python3.6/dist-packages (from nbconvert<7,>=6.0.0->voila) (0.8.4)\n",
            "Requirement already satisfied: jupyterlab-pygments in /usr/local/lib/python3.6/dist-packages (from nbconvert<7,>=6.0.0->voila) (0.1.2)\n",
            "Requirement already satisfied: testpath in /usr/local/lib/python3.6/dist-packages (from nbconvert<7,>=6.0.0->voila) (0.4.4)\n",
            "Requirement already satisfied: defusedxml in /usr/local/lib/python3.6/dist-packages (from nbconvert<7,>=6.0.0->voila) (0.6.0)\n",
            "Requirement already satisfied: MarkupSafe>=0.23 in /usr/local/lib/python3.6/dist-packages (from jinja2->jupyter-server<2.0.0,>=0.3.0->voila) (1.1.1)\n",
            "Requirement already satisfied: decorator in /usr/local/lib/python3.6/dist-packages (from traitlets>=4.2.1->jupyter-server<2.0.0,>=0.3.0->voila) (4.4.2)\n",
            "Requirement already satisfied: six in /usr/local/lib/python3.6/dist-packages (from traitlets>=4.2.1->jupyter-server<2.0.0,>=0.3.0->voila) (1.15.0)\n",
            "Requirement already satisfied: jsonschema!=2.5.0,>=2.4 in /usr/local/lib/python3.6/dist-packages (from nbformat->jupyter-server<2.0.0,>=0.3.0->voila) (2.6.0)\n",
            "Requirement already satisfied: ptyprocess; os_name != \"nt\" in /usr/local/lib/python3.6/dist-packages (from terminado>=0.8.3->jupyter-server<2.0.0,>=0.3.0->voila) (0.6.0)\n",
            "Requirement already satisfied: webencodings in /usr/local/lib/python3.6/dist-packages (from bleach->nbconvert<7,>=6.0.0->voila) (0.5.1)\n",
            "Requirement already satisfied: packaging in /usr/local/lib/python3.6/dist-packages (from bleach->nbconvert<7,>=6.0.0->voila) (20.4)\n",
            "Requirement already satisfied: pyparsing>=2.0.2 in /usr/local/lib/python3.6/dist-packages (from packaging->bleach->nbconvert<7,>=6.0.0->voila) (2.4.7)\n",
            "\u001b[31mERROR: nbdev 1.1.4 has requirement nbconvert<6, but you'll have nbconvert 6.0.7 which is incompatible.\u001b[0m\n",
            "Installing collected packages: jupyter-client, nbconvert, jupyter-server, voila\n",
            "  Found existing installation: jupyter-client 5.3.5\n",
            "    Uninstalling jupyter-client-5.3.5:\n",
            "      Successfully uninstalled jupyter-client-5.3.5\n",
            "  Found existing installation: nbconvert 5.6.1\n",
            "    Uninstalling nbconvert-5.6.1:\n",
            "      Successfully uninstalled nbconvert-5.6.1\n",
            "Successfully installed jupyter-client-6.1.7 jupyter-server-1.0.5 nbconvert-6.0.7 voila-0.2.3\n"
          ],
          "name": "stdout"
        },
        {
          "output_type": "display_data",
          "data": {
            "application/vnd.colab-display-data+json": {
              "pip_warning": {
                "packages": [
                  "jupyter_client",
                  "nbconvert"
                ]
              }
            }
          },
          "metadata": {
            "tags": []
          }
        },
        {
          "output_type": "stream",
          "text": [
            "Enabling: voila\n",
            "- Writing config: /root/.jupyter\n",
            "    - Validating...\n",
            "Error loading server extension voila\n",
            "     \u001b[31m X\u001b[0m is voila importable?\n",
            "Enabling: —sys-prefix\n",
            "- Writing config: /root/.jupyter\n",
            "    - Validating...\n",
            "Error loading server extension —sys-prefix\n",
            "     \u001b[31m X\u001b[0m is —sys-prefix importable?\n"
          ],
          "name": "stdout"
        }
      ]
    },
    {
      "cell_type": "code",
      "metadata": {
        "id": "hHslsu8yPeeI"
      },
      "source": [
        ""
      ],
      "execution_count": null,
      "outputs": []
    }
  ]
}
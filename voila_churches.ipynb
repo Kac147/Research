{
  "nbformat": 4,
  "nbformat_minor": 0,
  "metadata": {
    "colab": {
      "name": "voila_churches",
      "provenance": [],
      "authorship_tag": "ABX9TyP9RALAAm1SC9Sbx03JLZRd",
      "include_colab_link": true
    },
    "kernelspec": {
      "name": "python3",
      "display_name": "Python 3"
    },
    "widgets": {
      "application/vnd.jupyter.widget-state+json": {
        "f104a0c10afa40589ce705625bde1bc6": {
          "model_module": "@jupyter-widgets/controls",
          "model_name": "VBoxModel",
          "state": {
            "_view_name": "VBoxView",
            "_dom_classes": [],
            "_model_name": "VBoxModel",
            "_view_module": "@jupyter-widgets/controls",
            "_model_module_version": "1.5.0",
            "_view_count": null,
            "_view_module_version": "1.5.0",
            "box_style": "",
            "layout": "IPY_MODEL_115205a49aa9487bba6ecbc91580e54f",
            "_model_module": "@jupyter-widgets/controls",
            "children": [
              "IPY_MODEL_b5022ec8bb6649328078d7a25a3e0bfa",
              "IPY_MODEL_acbed6c1d633406a853569b1084acf63",
              "IPY_MODEL_703adf167e224d828b7b9272fac7c828",
              "IPY_MODEL_d07af924eaef4d3697a92e953f9a4220",
              "IPY_MODEL_78b746d1461946488dc4bca2879ca4d4"
            ]
          }
        },
        "115205a49aa9487bba6ecbc91580e54f": {
          "model_module": "@jupyter-widgets/base",
          "model_name": "LayoutModel",
          "state": {
            "_view_name": "LayoutView",
            "grid_template_rows": null,
            "right": null,
            "justify_content": null,
            "_view_module": "@jupyter-widgets/base",
            "overflow": null,
            "_model_module_version": "1.2.0",
            "_view_count": null,
            "flex_flow": null,
            "width": null,
            "min_width": null,
            "border": null,
            "align_items": null,
            "bottom": null,
            "_model_module": "@jupyter-widgets/base",
            "top": null,
            "grid_column": null,
            "overflow_y": null,
            "overflow_x": null,
            "grid_auto_flow": null,
            "grid_area": null,
            "grid_template_columns": null,
            "flex": null,
            "_model_name": "LayoutModel",
            "justify_items": null,
            "grid_row": null,
            "max_height": null,
            "align_content": null,
            "visibility": null,
            "align_self": null,
            "height": null,
            "min_height": null,
            "padding": null,
            "grid_auto_rows": null,
            "grid_gap": null,
            "max_width": null,
            "order": null,
            "_view_module_version": "1.2.0",
            "grid_template_areas": null,
            "object_position": null,
            "object_fit": null,
            "grid_auto_columns": null,
            "margin": null,
            "display": null,
            "left": null
          }
        },
        "b5022ec8bb6649328078d7a25a3e0bfa": {
          "model_module": "@jupyter-widgets/controls",
          "model_name": "LabelModel",
          "state": {
            "_view_name": "LabelView",
            "style": "IPY_MODEL_4e98d016c3fa484fa16b7fcc7cb7986d",
            "_dom_classes": [],
            "description": "",
            "_model_name": "LabelModel",
            "placeholder": "​",
            "_view_module": "@jupyter-widgets/controls",
            "_model_module_version": "1.5.0",
            "value": "Select your church (romanesque, gothic, renaissance)",
            "_view_count": null,
            "_view_module_version": "1.5.0",
            "description_tooltip": null,
            "_model_module": "@jupyter-widgets/controls",
            "layout": "IPY_MODEL_6a02aa4a27dc48cb8cb36c344d6cdf7b"
          }
        },
        "acbed6c1d633406a853569b1084acf63": {
          "model_module": "@jupyter-widgets/controls",
          "model_name": "FileUploadModel",
          "state": {
            "_view_name": "FileUploadView",
            "_counter": 3,
            "style": "IPY_MODEL_9cb00315c49d4441b8c50fb7cb4b972e",
            "_dom_classes": [],
            "description": "Upload",
            "multiple": false,
            "_model_name": "FileUploadModel",
            "data": [
              null
            ],
            "button_style": "",
            "_view_module": "@jupyter-widgets/controls",
            "_model_module_version": "1.5.0",
            "accept": "",
            "_view_count": null,
            "disabled": false,
            "_view_module_version": "1.5.0",
            "error": "",
            "description_tooltip": null,
            "metadata": [
              {
                "name": "wro.jpg",
                "type": "image/jpeg",
                "size": 65141,
                "lastModified": 1602880554100
              }
            ],
            "_model_module": "@jupyter-widgets/controls",
            "layout": "IPY_MODEL_b05cd0ca8e9a4ffb8c05945ffcd95ebc",
            "icon": "upload"
          }
        },
        "703adf167e224d828b7b9272fac7c828": {
          "model_module": "@jupyter-widgets/controls",
          "model_name": "ButtonModel",
          "state": {
            "_view_name": "ButtonView",
            "style": "IPY_MODEL_85944cb5d8f0494d88eac7860f24e177",
            "_dom_classes": [],
            "description": "Classify",
            "_model_name": "ButtonModel",
            "button_style": "",
            "_view_module": "@jupyter-widgets/controls",
            "_model_module_version": "1.5.0",
            "tooltip": "",
            "_view_count": null,
            "disabled": false,
            "_view_module_version": "1.5.0",
            "layout": "IPY_MODEL_b7f63719de464b4ca56a0c3feb2a30c4",
            "_model_module": "@jupyter-widgets/controls",
            "icon": ""
          }
        },
        "d07af924eaef4d3697a92e953f9a4220": {
          "model_module": "@jupyter-widgets/output",
          "model_name": "OutputModel",
          "state": {
            "_view_name": "OutputView",
            "msg_id": "",
            "_dom_classes": [],
            "_model_name": "OutputModel",
            "outputs": [
              {
                "output_type": "display_data",
                "metadata": {
                  "tags": []
                },
                "image/png": "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\n",
                "text/plain": "<PIL.Image.Image image mode=RGB size=96x128 at 0x7F708F900908>"
              }
            ],
            "_view_module": "@jupyter-widgets/output",
            "_model_module_version": "1.0.0",
            "_view_count": null,
            "_view_module_version": "1.0.0",
            "layout": "IPY_MODEL_c9b246b6357a4eed9c1385740aa7ffbb",
            "_model_module": "@jupyter-widgets/output"
          }
        },
        "78b746d1461946488dc4bca2879ca4d4": {
          "model_module": "@jupyter-widgets/controls",
          "model_name": "LabelModel",
          "state": {
            "_view_name": "LabelView",
            "style": "IPY_MODEL_1837fd9461624718b633bc74058e0598",
            "_dom_classes": [],
            "description": "",
            "_model_name": "LabelModel",
            "placeholder": "​",
            "_view_module": "@jupyter-widgets/controls",
            "_model_module_version": "1.5.0",
            "value": "Prediction: gothic; Probability: 0.9056",
            "_view_count": null,
            "_view_module_version": "1.5.0",
            "description_tooltip": null,
            "_model_module": "@jupyter-widgets/controls",
            "layout": "IPY_MODEL_189dc32c09df4bd8b8e318c4384ff3cd"
          }
        },
        "4e98d016c3fa484fa16b7fcc7cb7986d": {
          "model_module": "@jupyter-widgets/controls",
          "model_name": "DescriptionStyleModel",
          "state": {
            "_view_name": "StyleView",
            "_model_name": "DescriptionStyleModel",
            "description_width": "",
            "_view_module": "@jupyter-widgets/base",
            "_model_module_version": "1.5.0",
            "_view_count": null,
            "_view_module_version": "1.2.0",
            "_model_module": "@jupyter-widgets/controls"
          }
        },
        "6a02aa4a27dc48cb8cb36c344d6cdf7b": {
          "model_module": "@jupyter-widgets/base",
          "model_name": "LayoutModel",
          "state": {
            "_view_name": "LayoutView",
            "grid_template_rows": null,
            "right": null,
            "justify_content": null,
            "_view_module": "@jupyter-widgets/base",
            "overflow": null,
            "_model_module_version": "1.2.0",
            "_view_count": null,
            "flex_flow": null,
            "width": null,
            "min_width": null,
            "border": null,
            "align_items": null,
            "bottom": null,
            "_model_module": "@jupyter-widgets/base",
            "top": null,
            "grid_column": null,
            "overflow_y": null,
            "overflow_x": null,
            "grid_auto_flow": null,
            "grid_area": null,
            "grid_template_columns": null,
            "flex": null,
            "_model_name": "LayoutModel",
            "justify_items": null,
            "grid_row": null,
            "max_height": null,
            "align_content": null,
            "visibility": null,
            "align_self": null,
            "height": null,
            "min_height": null,
            "padding": null,
            "grid_auto_rows": null,
            "grid_gap": null,
            "max_width": null,
            "order": null,
            "_view_module_version": "1.2.0",
            "grid_template_areas": null,
            "object_position": null,
            "object_fit": null,
            "grid_auto_columns": null,
            "margin": null,
            "display": null,
            "left": null
          }
        },
        "9cb00315c49d4441b8c50fb7cb4b972e": {
          "model_module": "@jupyter-widgets/controls",
          "model_name": "ButtonStyleModel",
          "state": {
            "_view_name": "StyleView",
            "_model_name": "ButtonStyleModel",
            "_view_module": "@jupyter-widgets/base",
            "_model_module_version": "1.5.0",
            "_view_count": null,
            "button_color": null,
            "font_weight": "",
            "_view_module_version": "1.2.0",
            "_model_module": "@jupyter-widgets/controls"
          }
        },
        "b05cd0ca8e9a4ffb8c05945ffcd95ebc": {
          "model_module": "@jupyter-widgets/base",
          "model_name": "LayoutModel",
          "state": {
            "_view_name": "LayoutView",
            "grid_template_rows": null,
            "right": null,
            "justify_content": null,
            "_view_module": "@jupyter-widgets/base",
            "overflow": null,
            "_model_module_version": "1.2.0",
            "_view_count": null,
            "flex_flow": null,
            "width": null,
            "min_width": null,
            "border": null,
            "align_items": null,
            "bottom": null,
            "_model_module": "@jupyter-widgets/base",
            "top": null,
            "grid_column": null,
            "overflow_y": null,
            "overflow_x": null,
            "grid_auto_flow": null,
            "grid_area": null,
            "grid_template_columns": null,
            "flex": null,
            "_model_name": "LayoutModel",
            "justify_items": null,
            "grid_row": null,
            "max_height": null,
            "align_content": null,
            "visibility": null,
            "align_self": null,
            "height": null,
            "min_height": null,
            "padding": null,
            "grid_auto_rows": null,
            "grid_gap": null,
            "max_width": null,
            "order": null,
            "_view_module_version": "1.2.0",
            "grid_template_areas": null,
            "object_position": null,
            "object_fit": null,
            "grid_auto_columns": null,
            "margin": null,
            "display": null,
            "left": null
          }
        },
        "85944cb5d8f0494d88eac7860f24e177": {
          "model_module": "@jupyter-widgets/controls",
          "model_name": "ButtonStyleModel",
          "state": {
            "_view_name": "StyleView",
            "_model_name": "ButtonStyleModel",
            "_view_module": "@jupyter-widgets/base",
            "_model_module_version": "1.5.0",
            "_view_count": null,
            "button_color": null,
            "font_weight": "",
            "_view_module_version": "1.2.0",
            "_model_module": "@jupyter-widgets/controls"
          }
        },
        "b7f63719de464b4ca56a0c3feb2a30c4": {
          "model_module": "@jupyter-widgets/base",
          "model_name": "LayoutModel",
          "state": {
            "_view_name": "LayoutView",
            "grid_template_rows": null,
            "right": null,
            "justify_content": null,
            "_view_module": "@jupyter-widgets/base",
            "overflow": null,
            "_model_module_version": "1.2.0",
            "_view_count": null,
            "flex_flow": null,
            "width": null,
            "min_width": null,
            "border": null,
            "align_items": null,
            "bottom": null,
            "_model_module": "@jupyter-widgets/base",
            "top": null,
            "grid_column": null,
            "overflow_y": null,
            "overflow_x": null,
            "grid_auto_flow": null,
            "grid_area": null,
            "grid_template_columns": null,
            "flex": null,
            "_model_name": "LayoutModel",
            "justify_items": null,
            "grid_row": null,
            "max_height": null,
            "align_content": null,
            "visibility": null,
            "align_self": null,
            "height": null,
            "min_height": null,
            "padding": null,
            "grid_auto_rows": null,
            "grid_gap": null,
            "max_width": null,
            "order": null,
            "_view_module_version": "1.2.0",
            "grid_template_areas": null,
            "object_position": null,
            "object_fit": null,
            "grid_auto_columns": null,
            "margin": null,
            "display": null,
            "left": null
          }
        },
        "1837fd9461624718b633bc74058e0598": {
          "model_module": "@jupyter-widgets/controls",
          "model_name": "DescriptionStyleModel",
          "state": {
            "_view_name": "StyleView",
            "_model_name": "DescriptionStyleModel",
            "description_width": "",
            "_view_module": "@jupyter-widgets/base",
            "_model_module_version": "1.5.0",
            "_view_count": null,
            "_view_module_version": "1.2.0",
            "_model_module": "@jupyter-widgets/controls"
          }
        },
        "189dc32c09df4bd8b8e318c4384ff3cd": {
          "model_module": "@jupyter-widgets/base",
          "model_name": "LayoutModel",
          "state": {
            "_view_name": "LayoutView",
            "grid_template_rows": null,
            "right": null,
            "justify_content": null,
            "_view_module": "@jupyter-widgets/base",
            "overflow": null,
            "_model_module_version": "1.2.0",
            "_view_count": null,
            "flex_flow": null,
            "width": null,
            "min_width": null,
            "border": null,
            "align_items": null,
            "bottom": null,
            "_model_module": "@jupyter-widgets/base",
            "top": null,
            "grid_column": null,
            "overflow_y": null,
            "overflow_x": null,
            "grid_auto_flow": null,
            "grid_area": null,
            "grid_template_columns": null,
            "flex": null,
            "_model_name": "LayoutModel",
            "justify_items": null,
            "grid_row": null,
            "max_height": null,
            "align_content": null,
            "visibility": null,
            "align_self": null,
            "height": null,
            "min_height": null,
            "padding": null,
            "grid_auto_rows": null,
            "grid_gap": null,
            "max_width": null,
            "order": null,
            "_view_module_version": "1.2.0",
            "grid_template_areas": null,
            "object_position": null,
            "object_fit": null,
            "grid_auto_columns": null,
            "margin": null,
            "display": null,
            "left": null
          }
        },
        "c9b246b6357a4eed9c1385740aa7ffbb": {
          "model_module": "@jupyter-widgets/base",
          "model_name": "LayoutModel",
          "state": {
            "_view_name": "LayoutView",
            "grid_template_rows": null,
            "right": null,
            "justify_content": null,
            "_view_module": "@jupyter-widgets/base",
            "overflow": null,
            "_model_module_version": "1.2.0",
            "_view_count": null,
            "flex_flow": null,
            "width": null,
            "min_width": null,
            "border": null,
            "align_items": null,
            "bottom": null,
            "_model_module": "@jupyter-widgets/base",
            "top": null,
            "grid_column": null,
            "overflow_y": null,
            "overflow_x": null,
            "grid_auto_flow": null,
            "grid_area": null,
            "grid_template_columns": null,
            "flex": null,
            "_model_name": "LayoutModel",
            "justify_items": null,
            "grid_row": null,
            "max_height": null,
            "align_content": null,
            "visibility": null,
            "align_self": null,
            "height": null,
            "min_height": null,
            "padding": null,
            "grid_auto_rows": null,
            "grid_gap": null,
            "max_width": null,
            "order": null,
            "_view_module_version": "1.2.0",
            "grid_template_areas": null,
            "object_position": null,
            "object_fit": null,
            "grid_auto_columns": null,
            "margin": null,
            "display": null,
            "left": null
          }
        }
      }
    }
  },
  "cells": [
    {
      "cell_type": "markdown",
      "metadata": {
        "id": "view-in-github",
        "colab_type": "text"
      },
      "source": [
        "<a href=\"https://colab.research.google.com/github/Kac147/Research/blob/master/voila_churches.ipynb\" target=\"_parent\"><img src=\"https://colab.research.google.com/assets/colab-badge.svg\" alt=\"Open In Colab\"/></a>"
      ]
    },
    {
      "cell_type": "code",
      "metadata": {
        "id": "t6msgfZxN3ib"
      },
      "source": [
        "from fastai.vision.all import *\n",
        "from fastai.vision.widgets import *"
      ],
      "execution_count": 7,
      "outputs": []
    },
    {
      "cell_type": "code",
      "metadata": {
        "id": "jCcJ6fEzN5Da"
      },
      "source": [
        "path = Path()\n",
        "learn_inf = load_learner(path/'export.pkl', cpu=True)\n",
        "btn_upload = widgets.FileUpload()\n",
        "out_pl = widgets.Output()\n",
        "lbl_pred = widgets.Label()\n",
        "btn_run = widgets.Button(description='Classify')"
      ],
      "execution_count": 13,
      "outputs": []
    },
    {
      "cell_type": "code",
      "metadata": {
        "id": "nCo-QQtTPwoW"
      },
      "source": [
        "def on_click_classify(change):\n",
        "    lbl_pred.value = ''\n",
        "    img = PILImage.create(btn_upload.data[-1])\n",
        "    out_pl.clear_output()\n",
        "    with out_pl: display(img.to_thumb(128,128))\n",
        "    pred,pred_idx,probs = learn_inf.predict(img)\n",
        "    lbl_pred.value = f'Prediction: {pred}; Probability: {probs[pred_idx]:.04f}'\n",
        "\n",
        "btn_run.on_click(on_click_classify)"
      ],
      "execution_count": 14,
      "outputs": []
    },
    {
      "cell_type": "code",
      "metadata": {
        "id": "51ywMmKBOb6T"
      },
      "source": [
        "btn_upload.observe(on_data_change, names=['data'])"
      ],
      "execution_count": 15,
      "outputs": []
    },
    {
      "cell_type": "code",
      "metadata": {
        "id": "hCw2Vx0KOfNW",
        "outputId": "d1ba59ff-2a0e-4be3-b8e5-f3e4a59ccdac",
        "colab": {
          "base_uri": "https://localhost:8080/",
          "height": 273,
          "referenced_widgets": [
            "f104a0c10afa40589ce705625bde1bc6",
            "115205a49aa9487bba6ecbc91580e54f",
            "b5022ec8bb6649328078d7a25a3e0bfa",
            "acbed6c1d633406a853569b1084acf63",
            "703adf167e224d828b7b9272fac7c828",
            "d07af924eaef4d3697a92e953f9a4220",
            "78b746d1461946488dc4bca2879ca4d4",
            "4e98d016c3fa484fa16b7fcc7cb7986d",
            "6a02aa4a27dc48cb8cb36c344d6cdf7b",
            "9cb00315c49d4441b8c50fb7cb4b972e",
            "b05cd0ca8e9a4ffb8c05945ffcd95ebc",
            "85944cb5d8f0494d88eac7860f24e177",
            "b7f63719de464b4ca56a0c3feb2a30c4",
            "1837fd9461624718b633bc74058e0598",
            "189dc32c09df4bd8b8e318c4384ff3cd",
            "c9b246b6357a4eed9c1385740aa7ffbb"
          ]
        }
      },
      "source": [
        "VBox([widgets.Label('Select your church (romanesque, gothic, renaissance)'),\n",
        "      btn_upload, btn_run, out_pl, lbl_pred])"
      ],
      "execution_count": 16,
      "outputs": [
        {
          "output_type": "display_data",
          "data": {
            "application/vnd.jupyter.widget-view+json": {
              "model_id": "f104a0c10afa40589ce705625bde1bc6",
              "version_minor": 0,
              "version_major": 2
            },
            "text/plain": [
              "VBox(children=(Label(value='Select your church (romanesque, gothic, renaissance)'), FileUpload(value={}, descr…"
            ]
          },
          "metadata": {
            "tags": []
          }
        },
        {
          "output_type": "display_data",
          "data": {
            "text/html": [
              ""
            ],
            "text/plain": [
              "<IPython.core.display.HTML object>"
            ]
          },
          "metadata": {
            "tags": []
          }
        },
        {
          "output_type": "display_data",
          "data": {
            "text/html": [
              ""
            ],
            "text/plain": [
              "<IPython.core.display.HTML object>"
            ]
          },
          "metadata": {
            "tags": []
          }
        },
        {
          "output_type": "display_data",
          "data": {
            "text/html": [
              ""
            ],
            "text/plain": [
              "<IPython.core.display.HTML object>"
            ]
          },
          "metadata": {
            "tags": []
          }
        },
        {
          "output_type": "display_data",
          "data": {
            "text/html": [
              ""
            ],
            "text/plain": [
              "<IPython.core.display.HTML object>"
            ]
          },
          "metadata": {
            "tags": []
          }
        },
        {
          "output_type": "display_data",
          "data": {
            "text/html": [
              ""
            ],
            "text/plain": [
              "<IPython.core.display.HTML object>"
            ]
          },
          "metadata": {
            "tags": []
          }
        },
        {
          "output_type": "display_data",
          "data": {
            "text/html": [
              ""
            ],
            "text/plain": [
              "<IPython.core.display.HTML object>"
            ]
          },
          "metadata": {
            "tags": []
          }
        },
        {
          "output_type": "display_data",
          "data": {
            "text/html": [
              ""
            ],
            "text/plain": [
              "<IPython.core.display.HTML object>"
            ]
          },
          "metadata": {
            "tags": []
          }
        }
      ]
    },
    {
      "cell_type": "code",
      "metadata": {
        "id": "hHslsu8yPeeI"
      },
      "source": [
        ""
      ],
      "execution_count": null,
      "outputs": []
    }
  ]
}
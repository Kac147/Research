{
 "cells": [
  {
   "cell_type": "code",
   "execution_count": 1,
   "metadata": {},
   "outputs": [],
   "source": [
    "# Daliy Excess Returns calculator\n",
    "def Create_Daliy_Excess_Returns(returns):\n",
    "    returns['excess_daily_ret'] = returns['returns'] - 0.03/252\n",
    "    return(returns)\n",
    "\n",
    "# Annual SR calculator\n",
    "def Annual_SR(returns):\n",
    "    N=252\n",
    "    SR_annualized = np.sqrt(N) * returns['excess_daily_ret'].mean() / returns['excess_daily_ret'].std()\n",
    "    return(SR_annualized)\n",
    "\n",
    "# Daily SR calculator\n",
    "def Daily_SR(returns):\n",
    "    N=252\n",
    "    Daily_SR = returns['excess_daily_ret'].mean() / returns['excess_daily_ret'].std()\n",
    "    return(Daily_SR)\n",
    "\n",
    "# Information Ratio SR calculator\n",
    "def Information_Ratio(returns, bars):\n",
    "    bars['returns'] = bars['Close'].pct_change()\n",
    "    diff = returns['returns'] - bars['returns']\n",
    "    Information_Ratio = diff.mean() / np.sqrt(diff.var())\n",
    "    return(Information_Ratio)\n",
    "\n",
    "# Maximum Drawdown SR calculator\n",
    "def Maximum_Drawdown(returns):\n",
    "    Price_List = returns['total']\n",
    "    Mdd_List=[]\n",
    "    \n",
    "    for i in range(len(Price_List)):\n",
    "        List_Diff=[]\n",
    "        for j in range(i,len(Price_List)):\n",
    "            diff=(Price_List[j]-Price_List[i])/Price_List[i] \n",
    "            List_Diff.append(diff)\n",
    "        Mdd_List.append(min(List_Diff))\n",
    "    return min(Mdd_List)\n",
    "\n",
    "# Standard Deviation SR calculator\n",
    "def Standard_Deviation(returns):\n",
    "    Standard_Deviation = returns['returns'].std()\n",
    "    return(Standard_Deviation)\n",
    "\n",
    "# Transaction Counter SR calculator\n",
    "def Transaction_Counter(signals):\n",
    "    transaction_count = (len(signals[signals['signal'] == 1])+ len(signals[signals['signal'] == -1]))\n",
    "    transaction_count *= 2 \n",
    "    return transaction_count\n",
    "\n",
    "# printing features of strategy\n",
    "def Print_Ratios(best_lag_ret, best_lag_hilo, returns, bars_treading, signals):\n",
    "    print(\"Selected number of lag returns: \" + str(best_lag_ret))\n",
    "    print(\"Selected number of HiLo lags: \" + str(best_lag_hilo))\n",
    "    print(\"Trading annualised Sharpe Ratio: \" + str(Annual_SR(returns)))\n",
    "    print(\"Trading daily Sharpe Ratio: \" + str(Daily_SR(returns)))\n",
    "    print(\"Standard deviation of returns on trading period: \" + str(Standard_Deviation(returns)))\n",
    "    print(\"Maximum drawdown on trading period: \" + str(Maximum_Drawdown(returns)))\n",
    "    print(\"Information ratio for trading period: \" + str(Information_Ratio(returns, bars_treading)))\n",
    "    print(\"Number of transactions: \" + str(Transaction_Counter(signals)))"
   ]
  },
  {
   "cell_type": "code",
   "execution_count": null,
   "metadata": {},
   "outputs": [],
   "source": []
  }
 ],
 "metadata": {
  "kernelspec": {
   "display_name": "Python 3",
   "language": "python",
   "name": "python3"
  },
  "language_info": {
   "codemirror_mode": {
    "name": "ipython",
    "version": 3
   },
   "file_extension": ".py",
   "mimetype": "text/x-python",
   "name": "python",
   "nbconvert_exporter": "python",
   "pygments_lexer": "ipython3",
   "version": "3.7.6"
  }
 },
 "nbformat": 4,
 "nbformat_minor": 4
}

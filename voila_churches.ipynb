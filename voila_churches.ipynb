{
  "nbformat": 4,
  "nbformat_minor": 0,
  "metadata": {
    "colab": {
      "name": "voila_churches",
      "provenance": [],
      "collapsed_sections": [],
      "authorship_tag": "ABX9TyPeLq6bD6DaF85z9YTo2moH",
      "include_colab_link": true
    },
    "kernelspec": {
      "name": "python3",
      "display_name": "Python 3"
    },
    "widgets": {
      "application/vnd.jupyter.widget-state+json": {
        "90e23076fdce422f9b3cc5770eac6fdc": {
          "model_module": "@jupyter-widgets/controls",
          "model_name": "VBoxModel",
          "state": {
            "_view_name": "VBoxView",
            "_dom_classes": [],
            "_model_name": "VBoxModel",
            "_view_module": "@jupyter-widgets/controls",
            "_model_module_version": "1.5.0",
            "_view_count": null,
            "_view_module_version": "1.5.0",
            "box_style": "",
            "layout": "IPY_MODEL_cb3fd50f94864f5daebc931f88d573e6",
            "_model_module": "@jupyter-widgets/controls",
            "children": [
              "IPY_MODEL_06ab536c6d61482b8ea1202e86741e92",
              "IPY_MODEL_0bcbbbb3036f458ab3ee863120730080",
              "IPY_MODEL_465f20acbc0b44de9eb34a3226d1bd65",
              "IPY_MODEL_35f9ab277b7e484ea3e5136f10b0f7a9",
              "IPY_MODEL_cd009a6c2fd54619b9ff0fefc271a516"
            ]
          }
        },
        "cb3fd50f94864f5daebc931f88d573e6": {
          "model_module": "@jupyter-widgets/base",
          "model_name": "LayoutModel",
          "state": {
            "_view_name": "LayoutView",
            "grid_template_rows": null,
            "right": null,
            "justify_content": null,
            "_view_module": "@jupyter-widgets/base",
            "overflow": null,
            "_model_module_version": "1.2.0",
            "_view_count": null,
            "flex_flow": null,
            "width": null,
            "min_width": null,
            "border": null,
            "align_items": null,
            "bottom": null,
            "_model_module": "@jupyter-widgets/base",
            "top": null,
            "grid_column": null,
            "overflow_y": null,
            "overflow_x": null,
            "grid_auto_flow": null,
            "grid_area": null,
            "grid_template_columns": null,
            "flex": null,
            "_model_name": "LayoutModel",
            "justify_items": null,
            "grid_row": null,
            "max_height": null,
            "align_content": null,
            "visibility": null,
            "align_self": null,
            "height": null,
            "min_height": null,
            "padding": null,
            "grid_auto_rows": null,
            "grid_gap": null,
            "max_width": null,
            "order": null,
            "_view_module_version": "1.2.0",
            "grid_template_areas": null,
            "object_position": null,
            "object_fit": null,
            "grid_auto_columns": null,
            "margin": null,
            "display": null,
            "left": null
          }
        },
        "06ab536c6d61482b8ea1202e86741e92": {
          "model_module": "@jupyter-widgets/controls",
          "model_name": "LabelModel",
          "state": {
            "_view_name": "LabelView",
            "style": "IPY_MODEL_3eb363ec291d4c7f96e762ed5fbf21ca",
            "_dom_classes": [],
            "description": "",
            "_model_name": "LabelModel",
            "placeholder": "​",
            "_view_module": "@jupyter-widgets/controls",
            "_model_module_version": "1.5.0",
            "value": "Select your church (romanesque, gothic, renaissance)",
            "_view_count": null,
            "_view_module_version": "1.5.0",
            "description_tooltip": null,
            "_model_module": "@jupyter-widgets/controls",
            "layout": "IPY_MODEL_e9ff6a80569b4f4d9ae79c3da620fbdd"
          }
        },
        "0bcbbbb3036f458ab3ee863120730080": {
          "model_module": "@jupyter-widgets/controls",
          "model_name": "FileUploadModel",
          "state": {
            "_view_name": "FileUploadView",
            "_counter": 6,
            "style": "IPY_MODEL_2100a445fc3c463e80fcc9a370caa68e",
            "_dom_classes": [],
            "description": "Upload",
            "multiple": false,
            "_model_name": "FileUploadModel",
            "data": [
              null
            ],
            "button_style": "",
            "_view_module": "@jupyter-widgets/controls",
            "_model_module_version": "1.5.0",
            "accept": "",
            "_view_count": null,
            "disabled": false,
            "_view_module_version": "1.5.0",
            "error": "",
            "description_tooltip": null,
            "metadata": [
              {
                "name": "zalew.jpg",
                "type": "image/jpeg",
                "size": 206801,
                "lastModified": 1602633929912
              }
            ],
            "_model_module": "@jupyter-widgets/controls",
            "layout": "IPY_MODEL_4e9f9232ef3345eabd3462ec76a3d126",
            "icon": "upload"
          }
        },
        "465f20acbc0b44de9eb34a3226d1bd65": {
          "model_module": "@jupyter-widgets/controls",
          "model_name": "ButtonModel",
          "state": {
            "_view_name": "ButtonView",
            "style": "IPY_MODEL_6a6bdff60ba34b1394f2cd26a62712f7",
            "_dom_classes": [],
            "description": "Classify",
            "_model_name": "ButtonModel",
            "button_style": "",
            "_view_module": "@jupyter-widgets/controls",
            "_model_module_version": "1.5.0",
            "tooltip": "",
            "_view_count": null,
            "disabled": false,
            "_view_module_version": "1.5.0",
            "layout": "IPY_MODEL_505d13c40dbc4712b999c211295acb1e",
            "_model_module": "@jupyter-widgets/controls",
            "icon": ""
          }
        },
        "35f9ab277b7e484ea3e5136f10b0f7a9": {
          "model_module": "@jupyter-widgets/output",
          "model_name": "OutputModel",
          "state": {
            "_view_name": "OutputView",
            "msg_id": "",
            "_dom_classes": [],
            "_model_name": "OutputModel",
            "outputs": [
              {
                "output_type": "display_data",
                "metadata": {
                  "tags": []
                },
                "image/png": "iVBORw0KGgoAAAANSUhEUgAAAIAAAABiCAIAAAAX0EwVAABe6klEQVR4nG39WZBk6ZUeiJ3zb3f13WOP3DOrsvYCCkBj6UaDzWaTTc6Q1JDUaESZSSZKehibeZGZ9KBXmclkMplMD9RwJJpk4mhmJG7dzSbRbAKNrRsFFIDaK7Oqcs+MPTx8v/v9l6MH91iy0LfCsiLd7/2Xs37n+4974j/98RAAEBEBGODidwAAAAtERBwYIgIQESEiZ8g5AyIEBARaPIvIGSAiEQEBAHPOAQBHACC2uJAQERGIyDoCQCA0ZK1zQAiAzrnF1I6IAJ0jbexiXuvIEQBwIoDTGQEIwAIwAEaLN56/Fm8vlk1EX7hnMQQ/u5mIseU4DmExDwAQOQbIEc9uWCySiAycj7r47eyt5RvEAMDBc1M7ooWYAZCIxOKZxWoQcHHrYsWLLV5c8WJX5JwFACQODAEWAy1mP13B2c2ECKev09lAjOFiUQjIOQfCxSOL2RmiIwBwjKFzC7UtFAeni4VTIzmf60zo8Jcp42z9y63hUgaLPwmAne5uKcHnFLlY6/LBs3Xi6bhn4z8nPUQ63zFeVLMDdyYMcXFlC3t2CEh05gvufIrT4QgRkRwBQzoVqSMCQjy10FOFwOlKHSDSubwW63MMAJEDOAdkl4okRLbQGWeAwByR4EAE1pE7lwyebm3pDo7IMSQiDggAdmkaz9kmXHhmIWV7QXBn0vyCqwCCRWQA+LxmOSAg2oVpPLeqU83h6fNfeIU44NI1zz0AAJAhAC3UcKbahSYv6BAcEhAs9swurN65c0sGBGQXFXu2z3MzYYwtleMAFz6JsPALOJ2Rc0bWLjfHgC1Wd0FGZ6Kks9XCc2Z4cYPngrgg479UQ/D8hWdB4sJoRAQM4XSWxb6dc4vwC8t1Ejw3MhAt9rqcUSyMdnHPIq4zQHf6NJ5r4tSiABwAuxCRTvex+APZYnQARLe0tjMxLaULRI5zfhpSAQCdIwBCBhw5EQE4xKVjne8WCXEpC3LnikdAh8vICgD0fEw4DYB4UejnYwIAAMMvGDd84c4zI77oLsTw13W12OZya4QOlmnyTFZnqwMgR6chiLGF8S8kTIh49hgSEBDBIt4vIzs8r1jnHGMMzsIOERCeWdVZanWLGAS0yDZn8QoRGGOciAgdIRIQMecWhr2MzsgYAjhyiIiAjsHyhgsXW3oQECwdhSEAY+5CxP6CGhZ/pdMHv/DWuf0hstM8cXbDwpJhqV23mJQxdj4LO4/JFyZfJLSls4qF77CLqiayy+BNgMAICcCxxTwAZ1HieTui0zjl3MIEyVlg/DT7IjhAR2SNQwQmABwxAmTg3HJRApGIzELbdpl2GTvPzxyYc24R1QFpkaKXizm1FVxKBiwCAvFFXGTsVL54ZjnnwgBwp0gJT0V1ZtnnSebMhk9f5xckQIBnyfJsKEfnAy3eWaCPU/NAtkjCy5HP1HAWqWmZGHBpBHi29F9358XeLDkEYAwXHuMcIaBBAHKLgRgHckSEBGSBkJbmtYCZZ6NxRkQMAYjcheAOwBDMcm5aLhmIHF/uaeH7DnEBHB3Qc6K86Ld06jTuTO4Xbr0g6qUl4kIsQA4Xml7E2KVYTkWCCMgYW0Am5hax5GzKZeQ4T5SISwU4IkaEjCEiIHIgIiR3qrkL2f0cQvwa2lvq9mwCQCByjpAttgqMMcZggfeXiJsIYZmlzwwQETlHAHCWHOHC5hGRCC0RW+pwafwLbLUccPk7ABCeAoQzgHyWD4i+uKOLsBLxDNo9D1gRl7D6NCfDc9l+gSMuIFEAxuDUNJ8zr9M6AIBIsNO7zkWAp2n69J2LqAOQCIgzRo65pRS+gMPQESARIiEAMGQOGGNnQAGROSDE88rrCyBkYYIIKARaQneqbGOJEyFDdAu3QUsERIwt4C0sCp+lSTEAIGDg4GIFshTW0r9Ot/3F2S/o5uyphVy/UBhdzMm4NKQLQjtdy9ntZ7IiWr54oQ64oAM4TSYAXwS/p/kXGWNIYJ27WHRcFOg56FmswhFb4NclAIWz1XwhACxRJSICcMbILesLdHaRiRgDcgzBMcCFnmlRuBA7M4izMHVRXhdneX52/LVXLuz4og4uDPX874s0fBrCv3jbc/j7bC5EFIItyuXnSgg8RZOLPHxhxcjwNMujQ0RGzC2M7IIrIKI7jYhuaXHAkRnrAIBx5KcKdos0Ssw5x/iphQLwc2mRQDKLEgzPt3dmM4s4syAPCBwiLICSICAAg4QOGIFDR7jgBs6N+guGfwGznivjCzcsTYfsX6ZCQgB3Af64C86xrKVP0fpSSuDEMuRdAACnogRkdMFqFjrEC3gHgIAxBFrmPfjitcxOCzphUX0jAVjHkDm3LMettYjEkOOFkpKdhj86kwsgB7R4pojzaH7mcBd2e14iIAISMAR3Gr3PEPlFyf7a4r+opF8LknDx9S9GeVhs3HHOz1Z4moHPXQoQhUMHAKeM29nw4E6tZRmRkAGAJQcLeHPuTMQRnANg5xnvLM4uhOUWhuVwIVAHwBwwpIU5pGlKwFqtlnXLFI6M2WXwckRLFIEI5ABpmdmQwFq3hJXwXPV7LjsAQUhEyBwCMEK44KwWBVww4Qv57y9Rw9luT+31OekvfmFLcHRqQwwB+dnIRA6XTnLOTSCQWJY5z/OgFzV/bl/L2E1AwGABTYkIyBFDRGTWOcYQAMidl39winAuKBcWFZkDxxkLfA+ZBIBFBb9IqJaW2rhYHyEi54wQFhU/59wRWOsIzux9oW84DdwLQbCzMZ4XJSzkQXRK7T5/LcIIXbDChb+xU+h5MTjQBUM4Ex0/xbhngjwFbOezCHbKMeCpQBFPvYFoUXku1r1AMgCwqM3OcC8syhwiwRdiYg6XtrnMIUQXYSsRmGVhB4CQ5bMg6AgpT8XMTiWIZ+zegoRgfIk63Gmxd6YeJGBnFCxbiJQhAjIgR8/XsIuohA4cEDECQrIIBGxJJ505PQERWiRE5ASE6BAYWXaas0+5LiICC4AEnBBw6WULQbPTdLhMEkiOzh2OETCGyC7ofxnalz8LwdI5tFji5efy8gJ6L5i1RWUk+ILpQTxfJV50cKJFTQJAOBlPv4BMztAT0ZL+XJr2BfJhMRpjjHN2hnEviJiJRdEBZ/Dv/KqqMpvPOS5PKGAZY88vwEWkdIgOl7UiADgGdOGuU0ryoq8jnSOqC9evAajz5MoYI8aQITJABsgQ2QLFL8scRri0jOUotCTKOGNs4RZLQ194DjLExZiIwPlSNmczn0fSBVnEYHb8rCyLJYdwpiFY0AxEQLSYgJxzzlrr3GnRDMTQndZ3yDnDc2UDgrtQSV6I1JzvPfv8Vz/5rtWGn2fSxR/nskW21AEwh8wxdJwBA8cuJHBCIlzKBgEZQ7ZU2NlGnjOsi3o6SxViCcvYeSpbUhHu9KblHxegPZ7y7AtgdBogCRicuTERX+RZJIBFNbtAShfUwMR08PTzd77vh532W98ytj4Pn6cEBGNLF6alvSE4ODciQsKFgs5T5aIccqe2eQr/aBnYCNa2rs7HE84RGYBDdkofEnNI53XPYi38rPa9mHIZkDulaRmSI+Rw6tQXEBEjR8vS54Ib4qIKW8iTLRWFcEplAXJcniEiIAJDfC6CnkYGdzGun76xOD1yS+URY8AZMoZ8MQo7r8IQiZir7v2cjXcmj97R2pzqfulLDBcVLtGSdsBFXjlDw3gaiPmSQFkyKRzZEiOcJVsEYoJxvgAOgiAKpJBi+RQiX0J5h+AQHLvA1LLT6HRuNws0cxreCIDYqQ2eOtJSHhcUubhl+eyFARnjKARKJMmBI+DijBWIMWAcFxIUnHF+XhstWLszZSyCCS0h5ILafe40brEejgwBcFG6IhEyyibR3seboRTDJ/l8ZIk5WrIMgAgIhM/tYTnjEsixi8pnuIgAi8kIABgscQogClM0Z5+kjz9A4MCExLzY+cl0NEAuEAmQFoGWL+uwpQSJLZDz89iJ4fJY4ixoA3JARsAABAOOJMAhusUhxWLAL/LYC+ddrNNnRlLVCFg74p0IWyHzBbDTLQGC1rVzdmG5bLFLTpzjmRrp/Oc81QCgA1ocD50VbstkfwrggtEjkR4iEitzGu0A4wBgyTlnHZ0n3C/k0IXbEZ2H7IWZ46llnS1zYXHEuMqO9U/+8Qf/8v+Uzw4Zau/wz+uj9wefftcZfVrULSwPz1IxYwwW4OQL9RecV8tLr16mPcbZAh8tjJAYOxv7dJDnE8Pidaa4BVcKTkqwSLJGwFuxjHzkHAQyybjRWus6zxKrK63LWpemqsRitqU+6ZRvOjdIAgBiBMzRc8o/vYEBmeDoE1flLQZVkdqjh4v3mGPWknVgHTj6yw+qiMgtkvOSoDxPnpzBWfxkCGzB8tpZoyEim2TDg4DmjexuJ27qg4/y8SHjfGHBjDFkpy6wiP4O+PnROCyQwRKtEHEAxpAxFJwJwREX8et0wcTI8WWuPuUk8BSRLYI9AAA4NpvNEFEIvgCo1hjGbRxh7IOSIAVJhb4v++2YgwFbpvPpYtwF0DwN6GfG+Gtl13P5Z7kZByjzMR8+0pUmZGAdDp+g1QsUi2c8xAXxX5hi+dezwvvslVPRP3cxZLUThMoXPEj3irv/5rPPnoaEVVKYsmKMt5N38k/+FTmLvxYozvS9CNyLwTljjLFToI0A557u6MwQv4h/ziIbPr8dNjwZzucJEGpjZ3l1MpnqmqwlxTH0na+o6Stua99jK92GL8lDK7mz1iAiQ+AMBEcEBuCMqYEckAVYoDHiDE4bUE7XRYBEDnk0eUbTQRQoxaATcH+6C+UEzgjwiwHuFDUzQPwiojgVPQLDM+7eMSTGYWkfSKiChh9ESj58+5//yR/9S99ZRTQdjR99+ENXDvDZv/7sR/+f+cku44LxBQx3yGjxA+gAHSBxhgLZxWi+sADryDpa1HSIaJHMhVIXl2XWhX6O87CJCCCMZXlef3r/QeAHgssg8GdJ7vl+WVbOmDgOkJMuyr39qeIiyRIlvWboZTVVVel5PpFDxsC4JE0YY77nIaIQ4kLdS4jsoqkSMG6r5uDOpK6kc2ixdmiSkRo9pcbKmXXDKTD/gildyDR/CXt8ATMCISEwZJzVRQjApTjOtO/5WVZ7vuhxevbhf2h2G7dYHTmkPAFki7PQX/ezZZL5Ail04SDzQvY7DfwOFuAYLxo+Oz/RXZJxYavV6XSzZLa7t9dtdw4Pj4Iw8MLQ84JmFM7mmZCSkPlBOBgM58n88qXL2jqGzlcCEfOyqqpaSul7njGGMSaEOFvNkqwgh8t2jMUiRJAfx8nOfpqRs6EfDdPa1oSDh3T1a4gMTg8DTjs2TjeJZ3l8YVF0JqDTDhd37v6OEJlDWjl+u/fku0phP5KNPMuSVDtxXaBy1TjP9j/4nujSZqiEqy661K9rd3lyuahS2TIJL/a3aElyjoA4B2JEFhctOpxgWVggO43MeMqjARCAaDZbnuf53hogN0ZzobYuXzo+PvI86QCkH04no7IoR8NRoxF7AtfWVoxxnpTWuMl0UlRlGERRGDrCU+JgUUI/1wZy8XKA7eQJZUPBUKMUjEUckQk72JO2siiXqjs161NDgyVvhggAliwSQ4GwKMYueNhCOJahKIb9x/9hbfdtBCy73VCgFKJ58/aDB59uBjAdJ0ybbHwsNjZzxKAuGWPkzs8j4flkdmo9Z+Zx6grP0eCnnThEDNBdcM4zczl/AQAAxP7+vhBia2trbX3dkcvSdDIeSymllNPxhIiAM+l56+trT588EuissWmaEVCRZkf7x6sbG0oKxhYk07Kv8wIDdWHpp+cOzOlgeP9klgcKJbFIo4/gofWmT10+xcbqslHrgj06AqJlH+SCu5SoOVKuGRcSTukt5xxniIw7gGj37eDuH8wP9i5dWQGwrt2b2wcxlxuvvPkoT3anB/fzKoybRU35eL7uSiymcHYG+2s4gpZWv+Q68UzMCxegUyqTLbgJ5Mt2VXwenZ+G1EVMA0JAsb116WQ4KoqSIRecIzDO+dH+vrfNwyjKsowhi5oNyVlZVnuP7x/u7TvAskzLsl7b2mx120CMM4RFfyEC4KJjDhzCAhScx3QEAB5Ww3D8dC/N1luRNQ4Lp6WLfa7qmR4/qVsb4NyvBfpFZFpaDjHWmz/92U/+cODWvv13/hfEl727wJhjHPOjrWc/9Hff/vjp3g8+HWxv9brSmWS0JtxI8qLSzU63ZSfRtGqsrr/45luHd99+0bN1lblTPv8cqC9dERdVwhlLe2a/54efAIjIkZFD5xawCQAJHOGSKjlLgcsIBoBAJEbDQbvTDzxfGzsez5QShFYqef/Tz3v93mQ+K4us02huXL4WN1sG3DyZ6zKbTSd+s5VlCWPAOUvnk2a7L4Qkgqqqpec5cmQdQwZwzokTETHsjT9NT/b6AWMMiUOoYCPmTR+5M8mTX5SXv7I0NVh26uFpnD3jBBlDPXry03/3rw/lpa/99f9xEIQOHQEjdPHhr7Z3vh/nx3tpjX479gaz6bxxafPO00NrXQnIjGVMKLKXWr4NvO7G5fzoUTnfEa4EZ/FCke3OYPtZ7Qi4kN2CgDg9HD2Hq3DKpxGeno6yM6vhFxz6NBkQiI9+9edf+eZf8z3P873pbJxkhafkxuYmWVpZ31q/dPXR/Tu7u8/mRSk4DJ59lo/2Uaju+uX5dEi6HuxV7f6KFzQbrR5jAIRFkTkEXdeAEAYREZ0lfocYmiTefWdUlIHyEAE5xD6fJaUvQykBTj4phw/rtdtozXkcYHihclkc/uCUxxsbqwa7i6ToUGI+2Dz68+3DdxF0KQPlwza5vmIV2X/7+REmk82mZ6z1lE8qBM5bombSKT+Uns+RbJEKRwxOjXdh8s81Zy58jAGccf7nbrqIOG5hNrhEzO68VwGALeIDo2UnznIzwg/D93/+w8u3Xvb9IGo0Az8Qgh0f7HKOJwdPDTLlxVdvvjQdD7PZyAu84dHu2uaV4yf3b77y1e765tHus0bc8eOmlEzruizLNEvLuhZCNBqN5eqX3gsM2frRR/nRQ4FOeIqc4yDLsgwkCsGtsxFl5smPT3q36JS0uhiGF/8HJkwy3n/w3tXNDaiai1PL6OiXW7s/aNk5gLVCOseCyJSlY4Tf+/zk45Pib13v2qIKLArBReh7fuDVVVGm5WxuLa9YwOqSAyEXREBkl/XqrxUcp3Jf1lYLHbDFWQWcYvxFeHdLtuQs/BKcMqNnoRVBeAzyKv34lz+88sIbV+Pbx4d7/dWV2tqnn3/08JN3tq+//spXfms8GTYazengqNnZGO49fXLvA0D0o6gop+PBcZbOLt94McvmurYrK6ub6+tCqbquHSE7DX8OgBBim8Hnf+Zq3YgDAiIgRuBJHkZeIFGDqAodHryrTr5ebXwJncEzTz0LYoDC5kc//3/ZR+97jpXJ8eMP/uQ7a2x1/EHApXXMIDoLxKA21gsCRfbe0fRyvweIwmfDqe4iKt9Hoz3fKxkzuuRMFIR6tBdW5Wx2EGWPxfa3hPKfa/JBRKBFu/FZAljy4IDOObcI66eFsEOg00h6prYF4XrmOguVsDsf/Xw82O2ubOVFcufdnx3vPau1GY2Gs+noza/+rrbw+NG9VqONyF549Q0v6rzw5m+/+vW/cen6zU9++f3B7tO42Yla3cHB3vhkz5q8KIrBYDCbTupa0/IEfxE5kQm0d39QHz1ux14Q+EEYqMCTkkfN6KHsfvfYaRBxHMTcNR98D0xxsZo/XTQyIfX9P6sev6vKuXPm1tbKd8r31g/eJge1thpoPJ9Ns5JJzzlCIVQYbDaCjVBFCqnSrnJKilazRUAHhR6WxBhy5XGHw2ef3vvV9z/5wb/88L//3x/e/QlyDy9cyzB+2tR0wRWWby1rdXZhzX9J6zQseaxT9hIR2Hf+zv+qf+uNtMxPnt6Tnq91tfP4kec1fuc//s/Wr914/WvfUko+vP8pAnGpOqsbnZXVdrdbFZUu0ywZ5lnZ7a8IyZwue50+ZxQ3gyBUgpMSfNlHBaSU3L370f/5//Z//cc/e/D/+Pmj73568Mnh9KhwhfDQl7PSPMrVgROe53lBsJY+aT/+EfIFfUKnxAYnpNbxz6cffV+X1qvKa1srv3+lcUmWpJRA5E6jyXd2n/zxX/xKl3mopK8kZyQlGxTFKKnCMIglSaXCRgd9zxEbJrU2WnhKgW1w8+Sn/+ro/kcBCn/2hP+a7BYfGXEADmjxsyjKFkbGlic5dMpF/RpBedGZztgIAlEVWRS0e92NamV9NBgA6ZODR73NG87krUa3s7be7PQ++/DdlY3tuiyq+WT34Qfp+OTy7a9Mh4fGMqb440/fyefJ9o1X9w/2VlbXUfLj4+NG3ETgfiAdAQOep8mP/tV//a3r/ekofTjO3h8cm7oAa+NIbbf8UHhvXd0IGvHYZA1yHmebT74LcT/d/hpYA0CEAqm6tPej0ft/Mh8NomS8cnPr5vWt5nTAkQELGBjnRaPRvGSNo8lwcDLcurL1YHe/32yMfE+99NWTj95ONHU9Cc5ZzsBBXVUKQx8ZCyIu5Voc7Z4cj7JcbUZQlAAGn29ZPysN/5Lq7JRsIITnuozpwrMXqIuLTwkAEkLWtV7duLKytiWEl8+nUbMVBt4n771dvje7+uJXs/lk/8kDMsXR08+y2eDyS99cv3z5F3/+B72Nrf17vyJyXtQ5OXoqvcDqqsxm65evaS9qRGLBnnPOf/CH/81bnfxmu/cIRfvGrYcPHksXCgnDefnouKwpf/vZ0IHrB7IlcbsV3dxq9Af/d/wOF1e+7ABUnVy+9y/Y8Z2no1RkScPjmzdfaM6HSsiSS0IE4Zmq1FQBGmBcO/z3d3Ywn7d0qYLO7S99Y7ee0eBTsLVzhMLXQkkpYyKhhMMg1VYxbCsal4wjlbOxM04gukV/92k17hYU+Cn1Qwt24awOAFg0T9jTVhK+6Alx6Igcc4u4hacfTgIARiCss7dvv/DgwUOOcO3GTaW8JMvLqvJ879LNV8fHe1U6nh4/llz4gWdNdXTwJM+rvXuhc/jkwX3lNy5de5VJVqaZZDKZTozVWZLGcbcociI/jKNP3vuZvvu93/mrr9x5uMuD+PpXv7mzf/Di67+RHT5u1gzIJMOxBZbmWVHnicM7k/IX+xPix3/3pemLN4RMjq7c+X/3Zg/fHkI5z7x8vvbma32qJVnNPM09YjydjRyBBNEL/Z7H/s37T8Z59Q/e3LaaKyLnIIi77hjJ2CxPg+4aCVUwNqmcRakiv0SQHBnH7Y7Xa7LZfAJOOyHODPhizP/12ASn7ZcAC9YO8cKnRc4q5+c9hpwjQCaUYoe7O5tra0mSnhwdWesuX74S+urxk8fTweDSlZumLJLVtd5afzI6vv/RO+3VK2/85t+4dO0WOZ5m88nJ/t7jB414/fYbbymlTF0MDg82tq+WVV0l80rX6fTkp/+/f/w/emmdhPCErKymotiMVH/76uDZo9b2Vd9X8/rTt77y9c/e/Qu5uu5mY0uYTkZe7/L1t347mD299sE/7WR7n+swKWatMvGa8cpK245GNo5I+VWeGxVxbUNP8ihIZwmV+acHkyub61lNyOXMOGNqAHR14VMhrEXPazUaWg7Akik191QgVcho/eUb++OBcifM5GRK9FrkCJ09a7uD87IAadmzh3Ta4ocMEBg5YqeM2BLun7FvF+kNR9V8FkaR6HV6o8Hx6GiXSRmGa48eP3Km3Ny+FHje9tWrycl+q7N25eWvfvrOn+w+/izur734+tcEF3s7j5vt1ZWN9Va3v3X19mj/WX+lTwCBv9Zs9xgXPc/PsjSI4gef/PLLPbW1EqPgutIIoOtSKR8c2Nq0O91sMvHCwAmsrbv+4ps7H729efONwZN7ZYXN8d1bn/5/2/pkpJqfPT2GLG1hefnV1ztkIPJTkq7WnIibQgXCWitRFpW2jK13IsUhK4q2AI+sc4YrGUVereu8rgCc1hA420MrTCW8jRoxrWz3xsvN26/qt/8oJMutIWegTJjXtEse4rluwVNbXlo0LWlfAgYMEGhZfC7Kg2UXApx95IXpOp8PD4rEZ2EQWKPn0+HgYOfBg/tbm5uz+aTM8zIZ7z78qMjnl27cGB09ffbw0zd+43fX19bGg6fj4X7kqXw+vvfxB/PhcSMKpR8cHzyryjLLCs8PFx8Zi+MGEN168eU3rl/2mAi80PU2XLNvyjy3ZHQZC+KcmbpoBAE4J6UKPE/nuR83lC+/sW5e/fSfteuTkoXvHaRFXtjRULWavV4HjKtE4AB0VQI4zxYKCcLQEMRCtgRbDWVTwUltkqoSZACYCiIEAU6YugJiuUXDmOO8NpoYd44xXUFVhc0+IleucnX16J1//vRP/o+myMTysHf532njDy47IoDYaQ/A4rgSgBaf7T7l7AAROCFnDBkgOTIGyQK4fDYVQkhj7Etf+hpDmIxGk3lmqzzPstHJ04NH71258ZVkOtz95C+yyUDrilwdNNZHg/3R0e63fvfv1WVZlGVVZl4Y7O/tTibzS1euTmc1Y5ILqaRkDE1d6GoM3TZrttGbdRuyzvP21etFMupubum6yOuSeV5dlkpw50gRNpj75o3WTZ0yXVeAzwo6mc97suxu97bfeJ2XaUHMaFdp7fyO0FPDhSeYR0R1jQJTxksRjjFY91WXuaNZRQSaiaS2zlpTl5YM9wPibF4aqIqGFOB75agQRSaAEzAO5f1f/of3fvbH1/ms8dqd1Ze+BdosTrXwjEY4hZSnBAQsup8Jlr2Ry8a/0xJskUc4sCKfppNJ1OmGUaOiuUiTKVmti6LbW9mb3JtMxracV/Ojvaf3TvZ3uivX777z7+5//Iv161/VNba7W72Ny/G8WZX1p+++/frXfqvd7TlynOHm1qUsnb/z0x92+xurq+thGHpKOiJbpj5nanV9Op/OPn6vbq1YLo+OjngQNJptYa3nC03O6Xx1e2s23F9daX7L3V+rB8A4IRkZfvL4oMPdisJgfbOpWD01Gr2mq4wMRZ0xsNJvaF0xMKG0nhRE1N/YaNx6tX7wfu2oJLCOPM93TGlgg+MDODzuBoGlSmqn8wyIuB95gWd1KQVH6WOdH773p7PRSW8jUOmUAXO44MO/kEhhWaosunuXxyxolycwiwPUs+S8aMNCKRRDSqcjxUUcSXHw7OFw/2kxO/wkmRfJVKJ78uCTZm/j6s1bZTI/2n1w+Oi9Ky9+/Tt/5x/mZbX35LPjg90yT3prl3KX3b/7qzBsrG9fbcVRXladdqv71teODg7T2bjf7+WpUUGMdaVCzxG52loV9m693mgEj+/+t/cPB1994cqHzw5+4/b1Yab3uRRx/J0Xr/zuSw0+P3bSA7IG8OOjvJrn/Zi0kJv9NTs5sQ4DyS0TUkIkrCmtLTOhlEgnteQT4InjTeKrq+vVUexOxhFyBpoz5sA5R4FQdVkakIAi8E02GYxH41YQobE6zwjRIPMcsGS/wa1HpLNscZC9YKeeKwKWWRjO+InFtzvwMwp0gZ0WDMay7Y0pz/eisJoNi6SMGyFLk8nw6P7RzqN2w8+nB4PjvWuvfGXt0vWyyI/2Ho8OnoWtS1/5a/9AkwjD6Ld/7297UcARGs1GEKm6LsMoPDk+2t/ZeXT3/cf37jKOjWbk+35RZL4Svq+Ey31F7//q4xqkRDKEaOq8rlSjOc2LQWYscePgV59+9lJQ/fXWRM2OHXJtjdH1FPxn++Omq4Suulevx2CBeTUPCAU0upIcMY5opK387MSCGc+zMfmtl99Q3c58eDQDOtCUGUe64lIAE+hJ5fvdblNIJrhkTBBiVVVGqcwJSZYQVOSbuvaZ6MaNeVHOZmN2AUOeh/9FdxKd0+SnP2e116KxCJyu2LKdFohqZ2pbGy69OPCZ8AUCXH3hlUef/OrZk0p4Ki9yXWV1OU+Od7rdNYvird/6/WYjnI5Gnz369MEdT3lRb3X9yYM7SZJcuX57MDhUQm2/9GZvdWU6S8PQ13XtnG02QmdtWRW+y57sDxkxD9y8NGw4CFuiqEpHatGoPSq0Afpf/95X/t7tntFlYQnBktUsjO48HmaT0VoDGivrK61QD47QazouauGjLgMyrKyUs8C0dbXvBYDx116+uRZfs8zPs0zfuDUZDWE0Onh41/OEChrJbM6obsZ+Do6AnK1DQVKRkL6T0tUVIlbMZ0IyX7jKSMV4OQe0DNABEV5kF85PTZdEG5z21yLQoi0egZyZDY4a7Z4QojZ1MT4QUccUU7DaOmq2GsKasq7ray9//WDnoVKB9OuDp3duvvzVT5899vxG3NkcTSfPnv7pm1/7rd//u//paDKbjYcOzPaNVyaT4cnREQeUSmXzSdjuBGEU+gE1CRHG42G73eYIx0eH03m+1mpYJjq3X62rej7LXn311VlWkK42Vi0T+D98Y+3ba2FV6YqAcW7JSMWeZvzp3smaT82Gv3brxSAdpw6dBemHlbExadJllSVeo1lXqUR6ltp//3Bv4zj/4PCdjfVud7XXW9+6fvUKvvCyNlWeF/LVr9RaT08O77/3M9BZ3NlM3InT5manVYx3lLBZOu2hZF6IVN54/euRhuD+O7ErGDnzPP3w6yzbxUPpxWWdLbK5ZNy5Os0mkoHJy2y0g+lIysg4E8ZtxrkoC/3Sq18qai2lNFoH7R7VV473n+Z5fjKa/8b111vd9qXLN155/auDo71mFDbiqzuP740Hx2Vda1M3ul1X28H+0+uNVqTks0dPuv1ef301iuM0zZp+ODGm5avLr72a8Sjde9eLQ6PU6ub6VT8QntoejW6q9LdWRFUbyxgaKk2tOJu44O7OUaRs25fR9pW+h/W4rlmIQQPAUV0wQ6hLQm6M9siwuPkv3j4cVebNK6qTPjYj94P3PgIOjbgZREEnFiura3Fvo7V6ZXV1Za0XGyaAB865bD5PDh5PZjNv5Ya1eHzwJDNVKKUuqnZ/3XJmqgLsos19AWlOK7K/jBRakHELfUghkrp0DJTnVXXFfFnpIpmMvMjWohBBw1DNahTXrt0AEEU2iZtdAmcZrwu/yD5oRt4rb/3OK1/5FiED5z5472dKyNWNzSyZj453b97+UpJl/bWVMIxPjvZHgwNrba/fs9YdHR412+0gCBmwqsqNKbdffd3r9I5/8TM3PGpufJnHreHj+8Oju7mDzc3m119bNWVRWXBkDJAnlZP808dDkyRrCv04jNfX2WxUAeftDnHm8syLYm0qpVkcqIO0vHMw/STPPt4Z/S//5u/5MPnqV97aGWavtI97t97UK9vzyaCcju8+2M/fveObKvQCivxWr9fprjVWtzr93uZqb2N9I+6uW8R0fBKqL9XbL+i80vUsb7enZbZRl9wLzlg2ADDGnH/ZyHN1GZ6BU2TcVzxLZtoaqXwEXuWz2fT48tqlIp1x8kyWUDYX7U5bevGLL7/0sx98dzA4anbXymw2ODxsdLda3RU/7jy5+zPiAUqv3ens7z9BY8o8/9U7f/bCK19K52We5YIcc3R4uDcaHtx44eVmK3728N76+maj2WKCtZpRJ+KH9+4Ck83u+urNV4Xn9fsrn3z3X7Qi/BsvdJtEM+Klsb5kPhBn/EnKjib55TZXxBrXX2g7XWS1DleRM1Nb3w8ls1CXT3P3F0+e/dnHzz57etDtd//Wb37LB5yyftTrDu//eDzL1sLWjbe+waxNsgSBOVvvf/9f8MnRXBfZ3t7Ozk5Wvc2ENIFqRA3Pi0UQra93++tbrZW1zUas69q89GXLAsYuMG64CC8aGTFUCMtmSlg0hBAhA3TOkQNynhfMxgNyrnam0Vr1JN+4dM3UaXtlY3rwLGhEpkyEUJGpqvnoiDNCFLYqj5492H26++XtW08efnbt5TdrbW6/9lVnted5RObOr/4ibnaqpPzg7T8NfdntbxGAruqdJ3OJ+OCTX0ZxKPyGqerta9e6ve6l9e7++z/euHIj23mUTu/Px6N2vy1d0WvI12+trHLSjkoDggtAVysvZ/LR44O+b5uKq9XVXlNWg6OiuY3IlSYvapb5/P7+4Ht3n/3o48eDk/FqQ33r5marv7beDk5OnlZZIjgd7u9yzqu65NyzoB/cf7p15dLKyvrm5kqVHjaESozbTfWMiRXJpJRQFJClI/R3dp+h+aXg3GjT77bW1nqF6L/+H38p9BjaBchBR9bU2mjdiOWShF5+HAwcoDM2TaZCCEdaChWFjaLItalIl5yRqVPBWVWkKBCQLLOizDNH5p0f/6CzcumN3/htRPzjf/5fccHDILj8+jctkRCeNWmVziaHeWdllRhJJcNWk0o6evZ4/+mjVqdf1+bmq9+UQXz09LOD3af9lZW7w+PZ5Pg3vvXbxx+/H69sR7219OF9r5g/+On3Ra8Xzodv3mrf6ISs0klduboOorgkLNe2f/bup8Swrauy9BvtFXNwYHnEmfQ51Sp8+8nBn77zwTufPk7myfZa+6++un21391sx+vrHR6x1YC7hDzhPX2Ks7TGuirK6uP3ftlsdUwyHpliLfBOtBGS7eV13V798htv7n96p50OW54g5179+ndobStLkrrIdh9+Vj++d2Xdn2eZTae803Vu+SmcIptnsyFXKgpCa61SCpbNQVTn8yrLpqMjm6fCV2F33WqDCAwonwzI2qosmIry6ZEX9wApbK0JFTZ0XRweHoS9K0xKbovNfqvb6ebpuM6G7/343bqqgWxZTExN9+78YjY+maxcZqAnJwcb21ca/e3J0UNX50d79zeuvcy9YGX7xcs3b+SzJC+rpw8frPTXuyutwPfmWWYRZDXTT4+bl3ovb/VVZQpLDFjk+6YuZBhwLzq4vz+t9Wst2nzpxbiqhB/o5nqN7CdPDv74nTtdH5seCwR7+bUXvna5+/J2v7e+GtuCecE4qVrciGZTCC/2+WBqqtqWRfHw87v/5X/5n7/+4s20HD/4488GiIWxI/TujyrYG3zpm9/e/d6/I2241tq43srl7goC0mq/f3R8v0fuzc1w/9N/bvx/wLrXiQisIyJd154fZclcKOV53nl4IpdOjnQyKNMZzhk58tqrhORHsS4zJhxVhSmmYWdder7Rlc0ScXiw75xtr2y1eltRo/vkzp8naX39xVvT8cnq1o0sL0lwzw+FMA/v3c3SKmqvb1+56SnyfS9q9dY2NrdWOs8efOwzHDx7kCdj6bfMlatf+upvWudmJ4cNEfuSV0XCXc0YC4SIA/nll7YDZwpTGacZR8c4WBAExWTUY/W4rPc7va9022p0VLQu/ezZyR++8+EvP/qsqdgf/V/+N8PBMFb+m1c3b6yEhG5o2aoAEBQI5NIPJBL3PU6+kAqIM/Q8efvmtpLl/Ph4hn6l3dThg5lOmP/w2f71W7euvPFm+ckvCQktc8xnAEywdm9TN0KdFbrjRZPPk1/80+z1/2m4dbuuy8V3tRhTOWvjRsO55TGks6YqUiak4KDCQIT9yhhpqyjwyyxlRNa62mqfSS5DFBKAz0dHwgLlybA0tdZVMhs+ufdhq7vSanlHh+azj//84aefFFkmGG1cvf2l3/67w+OjKIpsld67ezcKAp1O7vzs05X+Wquz5QXR4Mln0vPj5tbo5GiSzDa2rnhQ+8OnyXgYxr4vWKgQOF66vnEp8o22xhpAhkK62nqerIKmkhJtodqrYuWqnhZ/+CT74/f/7f3Hu7FSX76y9tJGt9tqHB8fvXW5/+ZmHEi8e1jML72UlY9a6VzK/rFcc1qDthj2wM7y2gDjYdj88KMPIR+MxsOWzrhEn3v1GKTkROzho8d//VvfqA4+PzgeuGQS1blDCY43lB/FDVbNGz4qFqBLkRuLTpuKyHm+qvK5UrEmA7VmAH4QlHlqyrrKUxkEfiM0hvlhQHXtFDfFvCpLGUZhsw0MiKySSnJwzaaYjo99T7abK1VVPLn78/d+/uOTw6Oj/ai/tr7/bMcPujdvv5XOjkeT6d13/8LVubU2jHzO3MlgL/T8RhgwwR1n8/mo2YzzygSNzsb2jSTJWkUprXXO6aIMu+3SmKwsr92+9sb1NU9XaWnAORQiSwsOVIto11trueKV3/xaeiITQ//bf/32Z8+OVtvBX/nSiy9ur26E/s2NRkV8mpGuC4G17wV5tBZvXaOjk4aGozo+OMl1UdZVsXs8Ucovjeach+3es6PCJGnc6HW64rEj0/PEhDunAOXh/rH2Gp1rV/d29qCYO6OFVFJyJST3lCTww4Bxq4LISZcgIGmnKyZAJ0Wj1dNlZbJEhaHnKy4481RnddPkwzIZ5cnQi3txd6PWzpGJWu3p+Li3cXlw/KztKWesklIyEI1GpyyT3UefXOX06N0/tcWMMfm13/5PXvrqbyq/5Smx9+xBlU4m0+lrX/n2eLC3//TBZq89HR3t6ySrTW2BeY2w1TrcGfVXtyJDJ3v7l66+0uuvJsm8BZZIx52+EArLshX6t9aavikLay1YQg4OfYnWurf3ksdPP/mf/Ge/33719T/7Z//m3/74g/Hg8G99/fWep77+6rUXLq83WXVvb/zf/dGft111ZaMTBwoY615/oX35ynz/vWlRPtl/KJlN5sU8z6GeNwIv4ORsTUaD9Feuv9Vpe/7Br3oNkUiMAiwzB4iIKtNu8+qL0a9+xcEQcOmpbqvRVpattOZ7YxH5TtQIluu0SDNdlVWZV/lMCkeIHCjXZahaVVV4XNSSV3nlHLg8MVYzYxijRqM5tZljzve9NM+lCh0wq+syGUwGB+Jo/yFVM3T1zoffq4skTbPf+9v/6K/9g39knDk8PBSB12o1R1WG3M+SYnP7Zjo6SaeDMPKv3ni1tfHCwzu/PD54vIZXpeKeHzKh/JjNppMXX/9SpQ2bzBgQVwLADZN8+/rKioIiLS1ZKZinvKmmd4/rP3rvQd3a+K0vv+ALkU1OTFa0g/D2jc2/9eLKVr+7dfWSDRqUjHqd5t+8cvvOz34WCXAO8hrXbm56sb+XzN7caG9nhx7SViRD1fuj6ag2xrMOhQfAjDFFMRfod7lHijPupXkO4JNztbYPfvGjK9syCFXpalsXRQrag1IbGccIvKotZ1wyzHfeTTZXgjD2PauNKKazVo+l02NdVVWRNVrd6dH+fLjjrGVMkBCSeUKqLJ0jOsV4mo45YJ5O4jAkZ4o0nxw/RjJidvzIV16d5zY5nk3KVqsTNMNPfvX9sLnGg2g0Gh7vPr39+tc70/GzBw/D4OW42TiZHtRF4nmeno2EkH7UOD7c2di8wogjwfaV66NZNjgeSKXcbBJbg77U1q1vb9xuOcGwrnUoUQvvRzvJR4fTH915eu2N11/fXt3stIYfvVcmSX58xFC/uN1748UrEsGZ6lcH/LWIrl27NKSWkZ4GXiNXgo4//ykMHtV1WRoWeaKu7UrLI1BgsdaWgWHAHYB1SIB5VpZEeSQTYfpdLyl5WWhLVI1PRENIRAALVhuLydRhKDnz0rzQaVY7p6KwHHw6NP2tW99kypc2rPlMl3ldJoaISDtt6iyxVUWmYkEAAF4YySAqy6yspOcFnElA22p15uN9FfS8Vq9lMl2l4tZr30imR+nJo+OEVta31vzm2rVbyWQaNxpEjHH+0YM7V269efXWy7Ms2Xn8mU8lmXo4GkZR3OpdWt/cOj466PU3AInzRb8GD1txWSZ1wfxybhnV8/mzZ49ur/phlQDxKPDuDPP/5y/uPJlV/7v/wW/earDmyy+wMFjjtqkCWReKYUey7W7cbjfKLCt5mIdrQ3t08mTw0bPPAFHrOtdB6IvJo7t+nUVK1mUNwDqNdqPpzwsHSEJwzpZfLIAIUvnoKE8dVS6vbFqwJNFccCIUSohmxJWsrUHkUniMM86lMWi1tXWppGTK80Jz8OiX/bXLa1e/LJnV45M4jst80m51raE8nflBgGy9KBMu0GdeVlld5CablqZuX3250Wrd++B74JAzX1uz3ls9Tgb9zZviwx/+Adh0PJk6p/oba7PjYXnwVHCZz0ed3mbkqc1Go9vp+iq49cLrH/70u0U2Q0Iu/dbKRllmfhh6SkRxM4jC6Whw7cUvWcbnx0fNKIqiRhz6epQ+/eyDF/uiC5yj2E+q7z8d/vsPn66/9Mr//D9640Zc6z3cXOmMeaiyAw7MWjCOPEbtUDGOwJBkUAxm37v7yfCzO9sNFa/0efNS2O7YOnUGVNgAVqqIB5lVnmfRh3LAEISQy++kIwIykjFCPJzPeSsOEMWo3ui1p2OL1hZFwajJGJDWbNExyNAhoBcy5jQT3GPKOa9K9h/fA5f9ZnszbKwKX2XzgVR+EDV8PyBjZsXU6hQ5L2vdaMpINlXcmewVeTIeHjxa2bq5sX3r0d2fVDX1r7xWzY4sOamEmDy583hS9UP5W5c7u+/9/PX1TvPufyi0GcvG2lbfRR27d/+P/8n/odVpv/byK9udzoEumC03m5cs90pdX956dTg8qcuCkeVMWQdoi2bgTQ6ehZevI8Lw0f3ttny5F42G03//cPyvPn766tXLv//alZfeerl/7Qoc36+1Xdu61G/1Pv/5aC+1VRlP88oDF3nKWUfGHty/s2nojRea749VN24WnPseciWySUW1ZkAOGRMYRDzq9p0h5ilEyAod2uU3KxZlVWnLmJhb9jTNns2LsNGsygkZDx0HL0LBGF989xco5TEGXMjm2uouBqVF7pRkSvhC62Iy/OzDX/7BV//K/8xV8+nsZPXyK770XFWUybgc7xezUWPtGgZ+mUxFFDhr4/5G2F6zuk6Ge9pB0OjlT++mg0dR+4rywtl4JJ4NU+3gzdXOZstjjl7rhrVxKDCx863E5jpPx0dPD+7+7vX+S+GBaa0XcivrrimTF3U1PBn84qd/Zk3RWb26eeONgycPpqPjte0bXtyYT2dpWWUnD1/sRi/1u997984Pnk6ONHvzlZf+xpdfPP743Sv9ILr6QjF6JpV/9OkvodGBbCRNmQ6GZZp6YUBErqoYwniehI1W049W+v15YWzQYL6PTnPFlACoMnDKA+RMoq2SNNdOOC4carAaAJjgWhOQ03UaRpGpoBu1BjkcHbpm0+PO5JOhLb1AqtxqY40xli+amP0IJRIwJZRF5jNf1/bR09nh6N+tbtyWjIugKYQ3He4V4yNbpIDca3TL+Yh5YVEVgkY6mQZhQ2tjreGe56mgpmA4GHQvlRFUJ4c7m9vXRGVcP/JQsvcOZzdW1ztR0zmT1no8mx+nuLZyORSCGGuEYacVzEdPvhYmx1tf/nAwX1+/dOnaSzt7Tz745Z+/8Y2/VRbF1VsvAxdShWubm/PZLGw0T/K9zz58+oc/PnqUwXfeevl3QtZd6XXXto5/+XaVJXL4VIEjMkwX6VhvBiwQ8d70mIMpDWnAXLvQ8zqhFL7MtR5lRkgubEF1VqfGYyKvHS80KOEMmKrWqg6CwK8rj4BJzgUHsMoTuk4BgQDuHdyZAMVKRoS91SIMyjJlzm/asMVwB41zpl58vTwSchWQq8lZC9bnKLjSOY0n9SwZ/cWP/vDrv/Htqy9927jK6JwB5VbLIEJw2XykvKKuU8rTzsbNdD5Snt9e2VJB3Gh0lKD9uz+8dOsrn3/ydhR3g2ZfcOc40fV29PFk5qpsf0zNVuvRrEDie/Ni59GjZ1kah56xOsnyCqGYDzf5z0eub53WZRKosBE0Z8OjRqtZl3Lz6o35eDjee5QVeTXzJ4d77+6kL29deiWOX3r11smjpysrveZK13Cpy3p49x1pGZKrStJg1Hq/0WixZ3uVY4Ih6UogVKWxZckb3TBUiix3ZIvEo7bHotyiVB4DtM4VgFHoSSnKvCjrIisqzw+YFzhCX3naOuGF1hprzf1HR+tr/ayqmr1mMoF05gTu66mSUui0Bmto8U37jlTcFDIUJAQZa00jllvrQWJoMnc7jx6uNLz1y280WiulMUx50o/8RlROBoxqpyEKpIqbvW4r9D0RtqSKlO8xoHZ/u9Huz+cHyOVLr32jTObsN26tbXSiTNfkbCToJzuDJ4eDiBPpshsxcs4gTrJ0f57cO5pkdS04kDE39f7m7EkyeCqgEHp6MthtN5pI5uTw2dGTOzuff4R1ks8Gs3T8jS+/crkTXF2PV9Y2HeL8aOcX3//3lZDNONwf5v/6++84oYyxjVbAELnOBBeEjKOrK+MH0guEJko1IEIoDQjBGGdKelKgM0DG8xVnyK398WeH//UP7wxrKz3pkMbzIpuMEfF4cDwZT6UXMWanw5MoDpngvozr3NUmC2KhgqaVYW1RcBYqqaQAWyuJ3PeZwNrVVqMprWQsm+rKsCyrijwdjFMCRrpQkpuyUATcaltlaAtdTkxVBWjBlN12m+nEzvbz8ZGtUk+FYbz5/o//zaXLLwRBwDgT37y08u7B8PEwzXOzQ3nNILGaWVhr+nHI00p2I0k6Wok8zsgiH+fzvgDjnDh5+FrvykAGl1b6l268nE2OlPKzbI5gw4YHdTYfHoYu8UQzCgPK0k/ffXeeFk1P3ntw0I4D6YW3evGsgX4cVsWUVUoqbo0u04kC8LlEJa1F5sjrr7KwzbihoIFFZZmqKqgsKBn4nDtXGycVw1/e23mwP//rr12ZOBP5otI6ZpaD6fdWiZxwqXN5pWE8zKrKtDoBF7I2BmvV6ShX534o7Ghu0kkhsEjGLGvItiBT51XVZHEAmnHfOVZV9dpKpJ1w6NsycRzng4PR8V4QxZEO8/FeWZXknCd9R8CRFekkGR06XamwycFoYP2mepCOep2+KxMEI374eI9L7Pu+rSmULmByXNWb/W5d5Vhb5eYtoZ9wSiJvh3g2mElBYZ0nBSmmu9OZaO9GwUoQsMmzx8HatdXeGsj1+cFnu5/+wlR6rR30oyA7noYBf/zwKY+iq9JbX+1YFMPZJJSSZKCdjBWTjNVlHUioqhq45JwrTwJQpSvMk6jZxKoMnK6tEVwoslEUp4a4UoGQSclEGP/9b781Nn7r6vXKmNJ/YpKT3DqdzyTD2Xw6PnyooeysqDj258M0m5at9VYQtDSQZvVJVnXRzOaZ2P1clRtVlWN22K6D+SSNlR8EATe1c9jveu2q0CVFQdBqNot0WsySMp8zxifHe67VyidjJ0RR1mFcGW1QBdX4MJuNTTXzqnmdzpzOGJ1srIWzg48mJOLeFdGJ2Te2VxoM7xxOQgmEzjH2893h17fbWpg45P0Mb5D0pKuprHXVDlWiK8s9L1K1cCYZNddWcLbbD7iC2qZHpVPF0w/He0+5F8TrN7PxYDgYvfTW7c7cTWs9SYrDdB560dFg2m6GttnNEGNjo6Ap0VhTVo6AYa21QiEESBUzh3qeOI9pU1e64nVNuiuU50vSwEprHeM1iYz1DyvH9w0pOUztKClLP7mZTVyd1kX29OnHk+Lw6PjICb6+vZIk2clg1uiBqayZi8c2hdA9mFRr4+NeIJXymS6ruY2ajSyduyLjjQgFhqiy3HieEhxn46N5Mtu+dItsJpXKZsdOF36rm88nUnk1ISHpKjOmzqdHTFB5PPH8pi0HeXHIAzo8/rQdrxsLYi32tprecJJ9/XI3M/VBUia12/JNLfKCebnTWsALmw3FobY83r7ca0dqethuhSvdRp3m48mE+TbAAhRxM63SJDs5dulO2PB8LnotvxgXnEFR18Lj3Nl5WaNjrDKegFla5bVhtc2hXgubLB+RJcWYszr2VLDal41mMRhpXfvKc8zpSkvphYK45IZxqEqwxmkDMtbWJkmmE1s5pyUms0lS1m6WHj36eD4rkyS/tr317PFI13qwP3yW1qvrrSjifl600Ftb6wYxWJg5Z2AysCalOKR2s2YKAo9Xrq61y2spzfaqag7EbAZrG5ukteKWqnSw+1T6ioDquiRrtDFxp1Omsyzxs/R9U1Z1ndmkRiTkHhdRDubOg6ftbv3SFbfaCYQKgmclSL91oosKVdBUZWUMYFKz7qrn1bja64BjgtmGjAvVJ0pXui2lWFUaba0KW5XRge+hrohqZhNdDkzo9TT24qjM89EsmVbu4GQwGsxc3EWQtbHtSNTG3D+ZFxY3I78BzhPokARWjByAAyBLhIwHzTiIg1IqdNYaMAxrVySlns9mnGGSa15DEPFRXmu/SfkMBJ9nc+ecdjjPir3337XByhyKceZ6GxHM2eUrq1laz/Znr15f68RB2I56He/1fjPddZeCUXG4k0+8drvZDq9EvGWRSCpu8vHcbqz0BBfGilY7asatQLH56Hhj41az0zs+eKQ4y4vSFCmBS6dHZZbnAc/TuastU3wyGkah5Gh7l1/enR6aCiYnJ7POZq/NRMHiPGiSxVIrDtiMg8CYskZErYN2Us06/eZ0OpulWSj82qLvBbV2HGOLrNDO90MulSlLZ4zTORYpKs9XqrZlbSgpc7T1MMsbabgz09sNdrnjP9pzjyezEYGUETrbcHXkM+57RR6oprLBAIkB50ZXpjZGo1t58cMnx9MHn2z5gXXggAFjgmNeVKzTL6TfIzcezY2t8nRfiwjBcU91u+3K0LPjedAUacSfDQaj0UwJtbMz4FKKNp8GUEkD6agbduaTeqyN1+mHCFvXt1qdFnLFeKPwZlWZGxnIui6TUTrOs4KuvXAjCOJLvQbXJ6PDZwCmLrPRyYhLRFeHYTSdDuaTWafTUrbWwiejhydHc1W32p14bbXVZ1tV11iV1JOnJ58KwZkuqdXwZBjashYykrxuBo5QEXqNVns6nABKrppJlirlalLIvCSvyToHUvCwyrJSH5gqUwKdNbUGSzTTvN/0HcGjpJjWRnLRagRZlt7Jh0lVNQN1e7MzLtzBSVppvwrktBLH6gbjeH/yiUZ0xirPc+Teu3/w8ZPj8cGTRuClXtTvtq2Jwv4a729TUa+wrrZ29cr28aNP28+eGKk3I5jkTjo9zY22lvkyrQqrguOd+fh4Rgh1anRdRN3o2ZPDgMnVfmPUrPc/OXYOFOOVhZlMcGde1rUUioNBgGtNudH2AaEbyGaz8crLX0qPj3zUcasBtqqyaTOQd3YfaWPeevlm3GpVTk939h1UtZnNKkIWJGVRTNKsdKJ158nwYO9gXuV1d6118wYIa8BYW2QFCI9sbctUa0e27nYb8+k0y+q6yFGItZXO8VFe1DlYA6haTVWZejAs2rnWthbClMSasWfzqjIWPMYs+YFXWqjLej0KqC5HWXZpY+PLN65tj1Of6pR7qDzPHznhuc7W48MBb2p78Pjgs484j0lITRzbvddeggaW96rQAQMl0tm85n4p4rKqBJdXtjcqXelkakcHbValZH3ncQdlZRZffFlZFzJrPR42g3Y3BGR1xYypkllp6urWtVXH3dAYsdYu9mZtXRCq+WjejJXQBcfar21hnDFNEEJy0W+utoK82+oNH3xWOcSgyW2qy3kxH6nQz8bTMGJlOgh8psEWQA1frvQv/e7v/UfjweF/+9/9N8/2H2/KVRnwy1d7eVJkhRuPJgJVwMkZ7fI8bbeC8TipQTnrUGrfY1LwgvPjwajW9Sw1URieVPV8Pnn5xgYPYkQrpZ9kBeel4fxkmEBaKN9jAn0lakuDyazB2UGeHe+mHok1JDebjYazJydZo9M5Onp4OUAJ1Flpy0nSi6ojm1JtUgRRWSBXjodoLfNDgYAcWjeuv/T7/9ABG42HJ3XW27hUFFk+OyZdRWEzzWaCc0CHRjMA7TQXjJENIj91ZnAyS2Z5t9tYv7RiCJO0AMGGVX6yl/0nf/s/bYc6fboz+PxBlmXZfMIo8gVD5rR1ArEstS5zx4WM2u1+b/3qraf373zrr/8eyuzZzjCf06Qq0JPa2UldD0aTIGx4YbB/ONrqBz0vfumlV3bjcPPqrXvPdnMNs2k1H+fpXDOAuNEWQvDZvGJoK2uELy3nFIaetsPxzOgqzwuuPOapeV4NxkmbYK3bqUeTYVK0mr1ZORaYjgttyXiM5VXVEMzlFXEvh6TrM5vOOx4+meXbftgK/Q+fHHz/TjGbJldaza/0FXNJJGKBti3Q2NLlIBUxgUDAGLOOeDIhv2mKskxL1e/c+u2/c+3Vrx+dHN47mkq5MhmWnIuHjyez2TQ8zvlEn1Q6yWxlbAqsZL6vFHeG+1EAUucT7kQ9dzqpD49ndWaavcZsWL3x8lf/83/0X4xOdv7Nd/+QZ7W9/0D4yADLytWMg4O8qD4fzAVpx+g4l4O97OjwKO6trN+60WvGH93770fpJK/N/uGg3Qin83qW6AdPdrY3O/lsnnt8lj0p66rVXVndvjYazB99fqipaLYbYduSlsfPTkSWFVVREpiiLLjvK+aqPEfllw7q2pWayqJqNFRRlhZwOs/bofJ8met6PWq0O210hdDUDOODvcNRMmfdFkaSqqQdq2meN5od5VSrMvsp/4tP95uSC61XPLne9Oq66kdBJCkAwxxIBq7MArTOauuqSqtJbkpjfS8IhTGkQ6OBGICZjkcn46n0AyIXBsG4JNW+1nG5zo7bfny5H80nSaxk5hwCWQLjGAJeur5e1vrkcH6wM8yrWgWit97YezYPYymlJB60r365mGRRa1cFgWBY5bVkdp6Z9RdvXup6q36eZUlY6sHx8dP3vx+Fvsc4l8HlW29+fv89iVWn5XHWTAvkCGWVl6UXhhy51JY7R0qp11964a1Xb6Q4X11bOR4kpjSOgfB9pkk5yRHNaicusjQpayV9zrnny6NpNquN8nld1nlSMSat0RZxUtSeH+Tz+f7BfolS+ZE21nBuHBTGnkwmRVFGgld11dBud+fJs8PjFai/cftG6CklcEWwDR8FJ60rSmdMl4hETgceSCkBmXMuKetpWgRcMFPrKneM19qWZQFAyXw22H+ilGzEDWTMC8Oo0QQhYskjxtoeNEPl+b7knCE0unG8GqdlNR7n6FwYie0bG7dfvnT52sr4cJzNqjwrq6r0PG9tdaW/vu13ekwFQau3+fIrjZXVwrH3j+X3H+LODJzfcVwKIe89fLKzd1jXFSK02m1b0rft6neCjYNxsrM/kkKEAXOOOZRHJ+Ph4Oj4+EhwriRvrnPH6fDpNJ1UjPtOE2MkptOTW1fXP7wzFDzvNEOdl4CCMaF1NUwKZ23ghdZWk7quiloi66a1IaFJZLm23AtbK/PR8eHh0bzUnudrXVlNzdBXUo2m6bNiqFrNjVnydy6306h9cjRqdT1e10VW3dpuzAZ5oqF0TDgTCB4iFQTWkR80rly9TgwrU9u8rAFjD6VCqDLjXLe3cuPFNwRTAjnjHJE7spqYLt2cw4FRmTMy8CP0qiIHLpJ5crJ3aCBrtAJd13nHmLrubfR0RQLF8GRS6ZJxVIyazeZOXiLyghsxTfN5MShtSun+cfrA42HdGCVWoD0azAsNSZZtMASC9dUX8f37XcvfuH79k8dPUZhXXrnErWDAx3kWNVha5pwzoWRewcnhjAtpLU0naV3pwJeiu9KwnGZZubneRj+obGkdXtqI9/ZShmDJjpMkzUvjXDsOLrXiduC1V9ue9Gpd58ZOp6O0KAoHo3k2mSXdWDYCscI7UadTZOn+uOhqdiUIfMkyoMlk2omVtJXsdTPuV6IhJJONuCpzYmJQmuG82k3qaN17ZX2tyMZ5hjsneZlWuqwdqrrIF//4hnVWgOVCgiXOBee8cnh4PBsZCMFOp8lwMpuTVxdVXtWeZQZcEAe9tc7gYDo+SbqrcZ2XYJ3gqtmKyrJQnuesc0SaKUtUZFnMwGt1N1jIgpfiwd0XNplx2PBaUXSSzXIlhXNEQILBs6PDD03ynTX/74bZwWobgwoCBcypyK2gBwSHg72Xbr2slJclZnicRK0wikOd1p5kYJ0gYMNx5QXRcFrMcs0ZhmH19Ph4mJeGoDJQGyOFTNLCTfOAcSUEIqSQH8+qwWCMVVrWhhCzMltdaZfZrLRqpddWzcbWpat7g7vlcPi7t7cjX5wYcnXtaoo5bV26PCl1XuvBLI03V/BwYESATOyN8hS9rY3NP/v8wfrmynElNjc3R2V+yKVhyMAhoDVaF4WuK0MG7eLL5Big2OrGXu1WWh7pqtftCAg9wbymKATsHIz9WETNsFFUcbNdV/X9u89ajeZ0Ou+2OmmSrPi+dZb5Ho+jkCptbdSQTgS+9Jv13LWDoqGU53iRbm7EFUEYivF0YokqXW5srAxHB4/Gx/m87MTrX729Mc/mjhAZcd8JKahKTV10m93X3/hqM17zfaUUUwL7vV6j1RUPHx8yFPO8qLVuNUNjXCMOnhxP8sIqFKGnhBDZJPMQpWSPx+NpWa/128a6vcNxsxkD8KrOuFCC8yLPy1I3Oz55bDCZFGV+ZaP72UePObLBLEu5coQGYL803rPdeZYk82I312/4flEZXRUbPuST/RyY3+g8PDrZufN0zbX+3rdbPIr8RsgQrTUAwAX3PS8tcl1LgYjIjLEkgs1+02VluxlMs6LQtfMQPYXAmTONRoNRkU1n65tdFFjn1epK3/eCdqchAjgejjfWN4QQQinLClLSlsW4GEs/T/PyZGp8T/7woWvFjBjevNW9cavvqwh0io66jeabr74SMJ1UddBtfZ2py+ttAKy1BuDEufK89Y0b9x4+rGr9tW9857e+rTigdfV0NIqjFuNMkDC6JqWo2W624vZ0NGh1uN9d2d2dOGPQUNzgRcpvXlmbjIee4QJQ12VlcGujr5SoqooIq9qGgV9VdacZ5Vn2qw8+jwVb6wZp7ojEP/vFw17gtVdrpngupZHeh8ezRkve/NKVy15n++YLLU+kw2HDc7LVmddPhuPBer//8ecPHwzV+u2XD3/13iExYeyWIwRwzhmgMG76geessS7hjirmP81FqlWcyycpDvNCIfeVHiY5k9HNGy9+fv/dOi/G+1NPiXlalJXurMDaRlwlhZBCKRUKbuOA9XqovKbaAkSwtHIlvslEGDSzMvOUTwSeUr4KvCjyo+7DZ/th7N948ZXm6jYyqKtK16USshGFZW2ElIhYlqVjPpFzSHEYS8l0VRAT6LMS0jzdFRtbrcPdORfo+cHq2up8fgShWWn7R4fAlEqGRV2asKlkwDiXpDVTLK00RzBW1hVVST4vrUBAsFLg4Xi60e2hMasr7Rfe+Dp6rcl4Xo4fUTrLAV595QrLq0FZ57bYeiNo3BYCvMfuvocBb1Ynnoq/efm/eGXt5In3y0+ehZ68+fqVGScdYev6uid9v9t21i6+E9JVBXoijmMHE+WHjZX1k2fxXCdZc6XF/N+5dCkOw34nmhbzp8f5X/z03vVLq1/98q1klHueVCqwxrXacdyMlIiO9x5+QJp7cRR2v/HNv5+mWRAGnhRVlrdazaqu/CBefC/m/sFh1GgEQSQ93/M8YpDnRVmW7VYvy/O403C2RnJFnodBTAhFmSAzWudlXWhbmrzQbjoud9NqlNuJdbWuZ0IGhpBCKes6LW2xcrnvCEfDQoKcTlNPikFe3LzcF6CtpTSvZ6WOhAg8X2uLzI7nWRQHk3meFvlmK/aYKKry1atrvabsNPxrL7z2yd27R8eFQpbmVaGrgAmSrhsEYBWRX9lMIJVlSqQozRwAD93OcPB4Z1eFrLFFf3bnbaUouhowwylAB8iRKc64p4TgRNhvx0JhZ/NKJP5a+uHP5yzo37ySF8VsMrIZrK28cEWmP7CfhOHW5ctvJJ1UKiX8hvJ8Jfj+zp5BFpLmcRnHIp3NvShe3ewwBgLBUyqMY16WnAspvclsFrfa3XabM4acARgwFpEB1ZPJHQNVpZEcAIOnR/c9Twhmp/UBsir0opqKypSlnpdlIQXniluwFkmTXjQB587ZJCmiKO6GcZYdcgz9MBXTTLWgaT3mi9u3Xszy+9O8kAS+7ymfj+YlOhsGXrsRHo2mcRgGvldrTcDCIGDEnn70QTo3+8fD2XAuAA13tWVpWe8nOSf24ERHj4bNbhCH0eWVrdgLaigm9YRk9eRkb+9w+p3feeH2le3JLC1cmuo8K9NGdYKAnHOllHMOrPOVDCUzpvTQrm+sHx1uBY1WZ30rebbLIxZEIUZtPddVqR0JP+5Wmnl+oAIvihue9MejWdSMpfQbjYbn+c7aXr/LmKh1KYGT0eAcYygYr6uyLlOfg6knZZ0n9XCWD3I98SRU1ehkfo8EYyqwYBjxQmeeFQ0vss7oqp4blhSlA9fwG0pKTlhrWxvDLEunuTjamcRRvHcwREElHZGOm11ujZqeUCMSnfU4TU2Z6pNJ3d9Y29s7ihteWZntOPYFdyim42lZFcbQ1kq82RHzNLNo90fTbuxxCS4/vvTSldIccoeeM4XVmuHahvLi2u8gKgg8ipSVKgOh63rCg7opoyvb7bf1oLfKn4zvTktdOw3WWUdlXSx6IMqiRERTGxGoTisq8oyTLnTtQDXCltYUNVrtblsQ9nv96XjieV5WVIwLzwsE57auO422Nubl27fzsgyjKG40tMFkPg2krOraYyoMPCF4oPh8Pt4b3R1Nn3TjFWAuLevHg/c2Vi4fFZ9eXnlld/SpceUrt//Gg6P35+Xw+vorB4OHL65/pd1ae/fxnylwwgte2v6tx3u/jPz+ND8qi9TVREAlNwGpsFaiKNFaY6yzGoq8yOd6pdnRLGZ6j/mQ5tV06NZX1cnhUbfd8v0wyWuy1hE2g6A05AB16frtZuSpqqjH83Jlo2Mkso7yPDiZ7I2LwQyHQQv8NghReYr6od9QQSvqltZlVVkafaD3VQXCeKoO/bjfDW2WjPafHV97YVPXUNXkoWLkXGGBnDG6qkrGmRQyDsKNlf7R4UFV6yQ3XHhB6Hc7bSVYVVWNMEQkcA6RV1XZbLUYkKc8hrCxvjocj7bX1g4Hx1EUzPNxFEfm4FhX3uH8yVp7+6On94gVL155rfDmE3g8sI96rXZmi5oMNVoQtnsrWy9d+/rVrbf+7Qf/JGz216qbXh781sv/8Cf0z1678lfe3/mJJkIAn3s3Vr683tiUXPzy8Z/avCptLSVvBR4hSuCicNV0mPiekLGQvlPGz6bR0e5RZQg9Nk1zIL/SxGyZTFijER7vzK6utTvN6JP7O8O06jaieZpwKSqjs0pbh2lWzWa+oOrSZoiytP546xKpmCVjRpYjcOk6LokOJrP9fDoYlzoHzqCrQt80fNbKQj7PhO9707Epj8PSUFWb1FpkrrjKCJEx9H2lfF8q2W03Al9Jya1zHjOcYyMMBOlQEZrK87y61r7H+ytrRZ5U+gT8NLXTrBr3CvHTh3/wG+xv/uTT77109Y1ZvrNhXnii3ymmWw9Hv7ruvvbTR38iQtvsNgfTZ9u9V9EEg1FyOHsYd5qFnT05/jwthpZ+5EEbKTo8efZw59Fqf8PnDV9GB7MH9/d/Enst46Cuy6PZg8hvFpU21mFo/UBaXRfaRiqQgROOa0dMKUaKI1jQ5WycD0aZdVV3Rfb7Xs3kZJwEvUZRzQfjSeBJT4nJZFpkZSiYdU5b2uiFjYa/n6acY6UNcmmB9qbJcZppZpiAKFJS+2HQVpF84sZJcZTqwpHjVpDhZPAoKZqy7rSrKIBZYoIoYLw9HKu6dFXtUBGT4KqaqEZkXHCGxB0pxgHMeHyYpNNHjx8/2P0c8Kov+Xh+UtOceS4IxWySDI+H03Twk3v/VWkSx12M3kb/2sePfr7dfv3+zvv99upsWnzl+u3vfvRPVtrrTpuG17jWf+XR8IM8S/eOH3/9xt+OVfPu4/fTJO11V0ZJ/e1X/uo7n/0HXocG5wF6zAac7Ea0Mcl3wfrG1QwlR8jyMo69jcaVh4efBCo2tTsaTPtdr9BOa5ZZbVwtSAtr62luNlYjXbAokrokUmkrEtNK97u+dTqOhAR2PElPTubr3cbhcSIEqThwFoqqbLZD4GI0TWoHDkARkimzQu7vpjL0w1gq7nm2FXgtTtKWWWFtHGFHSSQPiTPHItYeHTGjpUCnrW02W9/4jTeZwLxKGoHX7lTr65KjWmkbiU5yywCRag7V3t7bhwd7H9371Xw24VaEWOx/vh/E3jStHdj1VmcWJoMpX9vcgAO99+EIlDsZlbrGF9v5+EMOL6qVoBOiYA3/JP305e0v5XkZyA4gS/MJ5AJZjSwL/YZaVYU9OMoghIiXYufw2dHJ4RtXv0zOm1fDfrv7+LCMo3Dn+BFqaaoqnepKFVVVd3w2SQbv3/vBX/nS32MMSbAstYZs1AiFgUoz4UnQPpunZTauPW3H4wFT+8J3owQcZ/c/ngvC0BOKODGPSXE0ma73us4ROKq0kUIILrKyLrV1THBGiOAcHo1SY7Dh8e1uj/HY82OlYukXUXe2hqq2pAspXMTJZyhI+2HgNILnS2ICAG9dvdxughMjY4dRy4YtP8PcyeFHH/zh/v6zvKwFi3Mx2B98djzKOKntjT5nfjEZFoURTHVbQZ5YU/Is5Uz7rYYYMfnsft7osabXX78lg5iu344i31y6vBY2GRXi2f69XnA1q2dIstD5ycnupdaLtR3W9XAw2HMWqrQEV6x0PANNLUZBy0jPI+OfTI+v9SqdTTZbNy0AmtI5x+rKk1IGTHNbYc1il9li/3iWphULIulhURdZoovKiiytRqM6jJmKvXlWDyfprS+tDx5PCanV9XYfTFZXo0YrLgo7nMy0dZxJIdnJOPOkKGqNHHilA6nKugaibjMczfIne8O43Yoin2qWJ0xjEVqvQWVapKMkX18NFLiYB1KEgZLAQAjl+6mr/KbqOuSOXDPyVlqBDHpJPQZeOgROMDvR491fDMcnYdPjYVXACTXNZhDW41gbTaIOOobHTHpynlbBhtPO9SA0XPfXhxtXlNdfUYIpzYDRSqv14u03T6qnL1/+clkXtRU3V766e/Jux1vzo6ijOm9t/+aVlauj6hklBu28mk8CYdbjlY6/uZPtXrtyOxsd31p76/173/etF7Lmq1e+PE0eOqTaFtudF3/nq3//48fvV5Vx1ghUs9HMbrnXNt9699PjpvJSbtLKVAUxT4rd3QyRxY0gn5I1+tJWw1ki4FFTIjMA2vNgNJ1vttqBoimiL70kqzxPRFIhZ9a5g+HoUr9vCQIlKutmWdHrdRiXBlwzCi1z2ggimGRlVTqAaHScVnVhrPa8PFDyynrzpWudqOuDRk8GTCpnrS8U44yB1/HbSmJep7PZLKm0sdbW3nRWeP6M/NpYygs73B8LT4Z9qDM2ysZx2NSiRGFELTyunMOS1SY0NpNTq2UI6OhgejfoRx/c+3Mhf1/DeH+4zxXtDd5bXXsjycfj6lmztTGqDiunhAl/8dGf5nnCSaSFYdWnNp+JWbli2j99/w8+3f3xVutK6JUGqx9+8odSNRDs/vHDq+tvJJPx1Uu3psnuR5/9yFZ2d//zF1cv9TvBcFpaBtNpser1ugLx6tXVRhwFvlhZi44n08tXfYdqeJipwHfG7j6cbG11TO26nj8YTZ8N814Y9joxgQkkKys3z8ukKNbb7WlecXRJpatKv3J7ezKripqi0DOGpBcj48C44JwBKYmbK40rG82N1YijEsA8KRCBEZNKGXKccactcMaVJOecA2MpK/JalwzBupK8xAEVtqpYyp3woB1GdSEn6Ugass0wnOpx6UDXYi0OGatKVkUO235QGsoqkMIpgSkSCjYo81bgM3BpUfV4d1onlS6UYKOqlox7AgPlFyNdW2p4SnF0VK31PcEUCT5z6bSuF/9GBQPOLJ6ktRDYjRnnpIRkoHSGc5dmxjHBumVoDJvVlQdSuXg1XBFMCLC2LqowxrysybrhrCrTukpdUNvZJLEG0plmjMamdCCtMYHPZmnitIvXW0B1XlZhEEzyMstr51yh62bsX1kLnXWYY7/dFIwh96JG3I4bK91GM1QIFCthTQHaScUAwQFzxkl0RZED46jAMSuc1ZVDztASBxYoJbl0RIgBYeicU04XeeWIuARNzpe9RiAyM4t7iUBXFIErKQ5MjhZKU0sxxGEvaLWxzSicae3XI98HgYGruWpJBhIddYSvCUIZbDNG2qImsBxWuGW1g1r53snEpVoDw2lVALfp2KXDcuYyFoleGCHhfpYMRqLXV8jKEJTMgsqwPNMZpUNWv9Z/6arc1Gh17tJRURYaL2+uAMPuaiQsFFVNiiHB+lp3OEo9KUbDpBP53U7gLB/P0jTVvmSzIl/vtENPJEWxO5hKLv1AFEVNgA6g3YhW29Iy3mh0u42WEFzXJozCzZVerxUhY2ScsVb5INFqx6XyOJA1WkkhBA8UlEUllVJosa6lFDlwL47BCWK8qqqiyJFxY601NTCuyZVFVuE09D3kTClLvDIGFOONBvkimum0toiEM33ogREu8oQpmfFEHDEYTGalibiSxGolFatYPtNhHDKrmWDz0bxG54TqbMU5zXVhOShGlOvsYFqJ0PVbjU4V11YfmhkEKDQUWh9NEiBoQWA9eS1Y6/FOGHVmWVnXIozC48Oh1eArFcdBf6X1/wfqD1aVV1jGYAAAAABJRU5ErkJggg==\n",
                "text/plain": "<PIL.Image.Image image mode=RGB size=128x98 at 0x7F83C6DA4BA8>"
              }
            ],
            "_view_module": "@jupyter-widgets/output",
            "_model_module_version": "1.0.0",
            "_view_count": null,
            "_view_module_version": "1.0.0",
            "layout": "IPY_MODEL_38a685e06053427cb2ffaaf72116b972",
            "_model_module": "@jupyter-widgets/output"
          }
        },
        "cd009a6c2fd54619b9ff0fefc271a516": {
          "model_module": "@jupyter-widgets/controls",
          "model_name": "LabelModel",
          "state": {
            "_view_name": "LabelView",
            "style": "IPY_MODEL_592223fca3ae40de9740b6b086d1f90d",
            "_dom_classes": [],
            "description": "",
            "_model_name": "LabelModel",
            "placeholder": "​",
            "_view_module": "@jupyter-widgets/controls",
            "_model_module_version": "1.5.0",
            "value": "Prediction: romanesque; Probability: 0.5705",
            "_view_count": null,
            "_view_module_version": "1.5.0",
            "description_tooltip": null,
            "_model_module": "@jupyter-widgets/controls",
            "layout": "IPY_MODEL_cf7559249b5e4ff4ac9754008c5743bb"
          }
        },
        "3eb363ec291d4c7f96e762ed5fbf21ca": {
          "model_module": "@jupyter-widgets/controls",
          "model_name": "DescriptionStyleModel",
          "state": {
            "_view_name": "StyleView",
            "_model_name": "DescriptionStyleModel",
            "description_width": "",
            "_view_module": "@jupyter-widgets/base",
            "_model_module_version": "1.5.0",
            "_view_count": null,
            "_view_module_version": "1.2.0",
            "_model_module": "@jupyter-widgets/controls"
          }
        },
        "e9ff6a80569b4f4d9ae79c3da620fbdd": {
          "model_module": "@jupyter-widgets/base",
          "model_name": "LayoutModel",
          "state": {
            "_view_name": "LayoutView",
            "grid_template_rows": null,
            "right": null,
            "justify_content": null,
            "_view_module": "@jupyter-widgets/base",
            "overflow": null,
            "_model_module_version": "1.2.0",
            "_view_count": null,
            "flex_flow": null,
            "width": null,
            "min_width": null,
            "border": null,
            "align_items": null,
            "bottom": null,
            "_model_module": "@jupyter-widgets/base",
            "top": null,
            "grid_column": null,
            "overflow_y": null,
            "overflow_x": null,
            "grid_auto_flow": null,
            "grid_area": null,
            "grid_template_columns": null,
            "flex": null,
            "_model_name": "LayoutModel",
            "justify_items": null,
            "grid_row": null,
            "max_height": null,
            "align_content": null,
            "visibility": null,
            "align_self": null,
            "height": null,
            "min_height": null,
            "padding": null,
            "grid_auto_rows": null,
            "grid_gap": null,
            "max_width": null,
            "order": null,
            "_view_module_version": "1.2.0",
            "grid_template_areas": null,
            "object_position": null,
            "object_fit": null,
            "grid_auto_columns": null,
            "margin": null,
            "display": null,
            "left": null
          }
        },
        "2100a445fc3c463e80fcc9a370caa68e": {
          "model_module": "@jupyter-widgets/controls",
          "model_name": "ButtonStyleModel",
          "state": {
            "_view_name": "StyleView",
            "_model_name": "ButtonStyleModel",
            "_view_module": "@jupyter-widgets/base",
            "_model_module_version": "1.5.0",
            "_view_count": null,
            "button_color": null,
            "font_weight": "",
            "_view_module_version": "1.2.0",
            "_model_module": "@jupyter-widgets/controls"
          }
        },
        "4e9f9232ef3345eabd3462ec76a3d126": {
          "model_module": "@jupyter-widgets/base",
          "model_name": "LayoutModel",
          "state": {
            "_view_name": "LayoutView",
            "grid_template_rows": null,
            "right": null,
            "justify_content": null,
            "_view_module": "@jupyter-widgets/base",
            "overflow": null,
            "_model_module_version": "1.2.0",
            "_view_count": null,
            "flex_flow": null,
            "width": null,
            "min_width": null,
            "border": null,
            "align_items": null,
            "bottom": null,
            "_model_module": "@jupyter-widgets/base",
            "top": null,
            "grid_column": null,
            "overflow_y": null,
            "overflow_x": null,
            "grid_auto_flow": null,
            "grid_area": null,
            "grid_template_columns": null,
            "flex": null,
            "_model_name": "LayoutModel",
            "justify_items": null,
            "grid_row": null,
            "max_height": null,
            "align_content": null,
            "visibility": null,
            "align_self": null,
            "height": null,
            "min_height": null,
            "padding": null,
            "grid_auto_rows": null,
            "grid_gap": null,
            "max_width": null,
            "order": null,
            "_view_module_version": "1.2.0",
            "grid_template_areas": null,
            "object_position": null,
            "object_fit": null,
            "grid_auto_columns": null,
            "margin": null,
            "display": null,
            "left": null
          }
        },
        "6a6bdff60ba34b1394f2cd26a62712f7": {
          "model_module": "@jupyter-widgets/controls",
          "model_name": "ButtonStyleModel",
          "state": {
            "_view_name": "StyleView",
            "_model_name": "ButtonStyleModel",
            "_view_module": "@jupyter-widgets/base",
            "_model_module_version": "1.5.0",
            "_view_count": null,
            "button_color": null,
            "font_weight": "",
            "_view_module_version": "1.2.0",
            "_model_module": "@jupyter-widgets/controls"
          }
        },
        "505d13c40dbc4712b999c211295acb1e": {
          "model_module": "@jupyter-widgets/base",
          "model_name": "LayoutModel",
          "state": {
            "_view_name": "LayoutView",
            "grid_template_rows": null,
            "right": null,
            "justify_content": null,
            "_view_module": "@jupyter-widgets/base",
            "overflow": null,
            "_model_module_version": "1.2.0",
            "_view_count": null,
            "flex_flow": null,
            "width": null,
            "min_width": null,
            "border": null,
            "align_items": null,
            "bottom": null,
            "_model_module": "@jupyter-widgets/base",
            "top": null,
            "grid_column": null,
            "overflow_y": null,
            "overflow_x": null,
            "grid_auto_flow": null,
            "grid_area": null,
            "grid_template_columns": null,
            "flex": null,
            "_model_name": "LayoutModel",
            "justify_items": null,
            "grid_row": null,
            "max_height": null,
            "align_content": null,
            "visibility": null,
            "align_self": null,
            "height": null,
            "min_height": null,
            "padding": null,
            "grid_auto_rows": null,
            "grid_gap": null,
            "max_width": null,
            "order": null,
            "_view_module_version": "1.2.0",
            "grid_template_areas": null,
            "object_position": null,
            "object_fit": null,
            "grid_auto_columns": null,
            "margin": null,
            "display": null,
            "left": null
          }
        },
        "592223fca3ae40de9740b6b086d1f90d": {
          "model_module": "@jupyter-widgets/controls",
          "model_name": "DescriptionStyleModel",
          "state": {
            "_view_name": "StyleView",
            "_model_name": "DescriptionStyleModel",
            "description_width": "",
            "_view_module": "@jupyter-widgets/base",
            "_model_module_version": "1.5.0",
            "_view_count": null,
            "_view_module_version": "1.2.0",
            "_model_module": "@jupyter-widgets/controls"
          }
        },
        "cf7559249b5e4ff4ac9754008c5743bb": {
          "model_module": "@jupyter-widgets/base",
          "model_name": "LayoutModel",
          "state": {
            "_view_name": "LayoutView",
            "grid_template_rows": null,
            "right": null,
            "justify_content": null,
            "_view_module": "@jupyter-widgets/base",
            "overflow": null,
            "_model_module_version": "1.2.0",
            "_view_count": null,
            "flex_flow": null,
            "width": null,
            "min_width": null,
            "border": null,
            "align_items": null,
            "bottom": null,
            "_model_module": "@jupyter-widgets/base",
            "top": null,
            "grid_column": null,
            "overflow_y": null,
            "overflow_x": null,
            "grid_auto_flow": null,
            "grid_area": null,
            "grid_template_columns": null,
            "flex": null,
            "_model_name": "LayoutModel",
            "justify_items": null,
            "grid_row": null,
            "max_height": null,
            "align_content": null,
            "visibility": null,
            "align_self": null,
            "height": null,
            "min_height": null,
            "padding": null,
            "grid_auto_rows": null,
            "grid_gap": null,
            "max_width": null,
            "order": null,
            "_view_module_version": "1.2.0",
            "grid_template_areas": null,
            "object_position": null,
            "object_fit": null,
            "grid_auto_columns": null,
            "margin": null,
            "display": null,
            "left": null
          }
        },
        "38a685e06053427cb2ffaaf72116b972": {
          "model_module": "@jupyter-widgets/base",
          "model_name": "LayoutModel",
          "state": {
            "_view_name": "LayoutView",
            "grid_template_rows": null,
            "right": null,
            "justify_content": null,
            "_view_module": "@jupyter-widgets/base",
            "overflow": null,
            "_model_module_version": "1.2.0",
            "_view_count": null,
            "flex_flow": null,
            "width": null,
            "min_width": null,
            "border": null,
            "align_items": null,
            "bottom": null,
            "_model_module": "@jupyter-widgets/base",
            "top": null,
            "grid_column": null,
            "overflow_y": null,
            "overflow_x": null,
            "grid_auto_flow": null,
            "grid_area": null,
            "grid_template_columns": null,
            "flex": null,
            "_model_name": "LayoutModel",
            "justify_items": null,
            "grid_row": null,
            "max_height": null,
            "align_content": null,
            "visibility": null,
            "align_self": null,
            "height": null,
            "min_height": null,
            "padding": null,
            "grid_auto_rows": null,
            "grid_gap": null,
            "max_width": null,
            "order": null,
            "_view_module_version": "1.2.0",
            "grid_template_areas": null,
            "object_position": null,
            "object_fit": null,
            "grid_auto_columns": null,
            "margin": null,
            "display": null,
            "left": null
          }
        }
      }
    },
    "accelerator": "GPU"
  },
  "cells": [
    {
      "cell_type": "markdown",
      "metadata": {
        "id": "view-in-github",
        "colab_type": "text"
      },
      "source": [
        "<a href=\"https://colab.research.google.com/github/Kac147/Research/blob/master/voila_churches.ipynb\" target=\"_parent\"><img src=\"https://colab.research.google.com/assets/colab-badge.svg\" alt=\"Open In Colab\"/></a>"
      ]
    },
    {
      "cell_type": "code",
      "metadata": {
        "id": "DiR0961ghRRA",
        "outputId": "5503175d-7209-4b7f-b637-c65842598aed",
        "colab": {
          "base_uri": "https://localhost:8080/",
          "height": 221
        }
      },
      "source": [
        "!pip install -Uqq fastbook\n",
        "import fastbook\n",
        "fastbook.setup_book()"
      ],
      "execution_count": 1,
      "outputs": [
        {
          "output_type": "stream",
          "text": [
            "\u001b[K     |████████████████████████████████| 727kB 7.0MB/s \n",
            "\u001b[K     |████████████████████████████████| 51kB 6.6MB/s \n",
            "\u001b[K     |████████████████████████████████| 194kB 38.2MB/s \n",
            "\u001b[K     |████████████████████████████████| 51kB 7.2MB/s \n",
            "\u001b[K     |████████████████████████████████| 1.0MB 19.2MB/s \n",
            "\u001b[K     |████████████████████████████████| 51kB 7.1MB/s \n",
            "\u001b[K     |████████████████████████████████| 92kB 10.8MB/s \n",
            "\u001b[K     |████████████████████████████████| 40kB 5.6MB/s \n",
            "\u001b[K     |████████████████████████████████| 51kB 7.3MB/s \n",
            "\u001b[K     |████████████████████████████████| 61kB 7.8MB/s \n",
            "\u001b[K     |████████████████████████████████| 2.6MB 44.0MB/s \n",
            "\u001b[?25hMounted at /content/gdrive\n"
          ],
          "name": "stdout"
        }
      ]
    },
    {
      "cell_type": "code",
      "metadata": {
        "id": "t6msgfZxN3ib"
      },
      "source": [
        "from fastai.vision.all import *\n",
        "from fastai.vision.widgets import *"
      ],
      "execution_count": 2,
      "outputs": []
    },
    {
      "cell_type": "code",
      "metadata": {
        "id": "jCcJ6fEzN5Da"
      },
      "source": [
        "path = Path()\n",
        "learn_inf = load_learner(path/'export.pkl', cpu=True)\n",
        "btn_upload = widgets.FileUpload()\n",
        "out_pl = widgets.Output()\n",
        "lbl_pred = widgets.Label()\n",
        "btn_run = widgets.Button(description='Classify')"
      ],
      "execution_count": 4,
      "outputs": []
    },
    {
      "cell_type": "code",
      "metadata": {
        "id": "nCo-QQtTPwoW"
      },
      "source": [
        "def on_click_classify(change):\n",
        "    lbl_pred.value = ''\n",
        "    img = PILImage.create(btn_upload.data[-1])\n",
        "    out_pl.clear_output()\n",
        "    with out_pl: display(img.to_thumb(128,128))\n",
        "    pred,pred_idx,probs = learn_inf.predict(img)\n",
        "    lbl_pred.value = f'Prediction: {pred}; Probability: {probs[pred_idx]:.04f}'\n",
        "\n",
        "btn_run.on_click(on_click_classify)"
      ],
      "execution_count": 10,
      "outputs": []
    },
    {
      "cell_type": "code",
      "metadata": {
        "id": "hCw2Vx0KOfNW",
        "outputId": "7bca6451-0ee9-4d2c-d790-c21df42828a6",
        "colab": {
          "base_uri": "https://localhost:8080/",
          "height": 243,
          "referenced_widgets": [
            "90e23076fdce422f9b3cc5770eac6fdc",
            "cb3fd50f94864f5daebc931f88d573e6",
            "06ab536c6d61482b8ea1202e86741e92",
            "0bcbbbb3036f458ab3ee863120730080",
            "465f20acbc0b44de9eb34a3226d1bd65",
            "35f9ab277b7e484ea3e5136f10b0f7a9",
            "cd009a6c2fd54619b9ff0fefc271a516",
            "3eb363ec291d4c7f96e762ed5fbf21ca",
            "e9ff6a80569b4f4d9ae79c3da620fbdd",
            "2100a445fc3c463e80fcc9a370caa68e",
            "4e9f9232ef3345eabd3462ec76a3d126",
            "6a6bdff60ba34b1394f2cd26a62712f7",
            "505d13c40dbc4712b999c211295acb1e",
            "592223fca3ae40de9740b6b086d1f90d",
            "cf7559249b5e4ff4ac9754008c5743bb",
            "38a685e06053427cb2ffaaf72116b972"
          ]
        }
      },
      "source": [
        "VBox([widgets.Label('Select your church (romanesque, gothic, renaissance)'),\n",
        "      btn_upload, btn_run, out_pl, lbl_pred])"
      ],
      "execution_count": 11,
      "outputs": [
        {
          "output_type": "display_data",
          "data": {
            "application/vnd.jupyter.widget-view+json": {
              "model_id": "90e23076fdce422f9b3cc5770eac6fdc",
              "version_minor": 0,
              "version_major": 2
            },
            "text/plain": [
              "VBox(children=(Label(value='Select your church (romanesque, gothic, renaissance)'), FileUpload(value={'church.…"
            ]
          },
          "metadata": {
            "tags": []
          }
        },
        {
          "output_type": "display_data",
          "data": {
            "text/html": [
              ""
            ],
            "text/plain": [
              "<IPython.core.display.HTML object>"
            ]
          },
          "metadata": {
            "tags": []
          }
        },
        {
          "output_type": "display_data",
          "data": {
            "text/html": [
              ""
            ],
            "text/plain": [
              "<IPython.core.display.HTML object>"
            ]
          },
          "metadata": {
            "tags": []
          }
        },
        {
          "output_type": "display_data",
          "data": {
            "text/html": [
              ""
            ],
            "text/plain": [
              "<IPython.core.display.HTML object>"
            ]
          },
          "metadata": {
            "tags": []
          }
        },
        {
          "output_type": "display_data",
          "data": {
            "text/html": [
              ""
            ],
            "text/plain": [
              "<IPython.core.display.HTML object>"
            ]
          },
          "metadata": {
            "tags": []
          }
        },
        {
          "output_type": "display_data",
          "data": {
            "text/html": [
              ""
            ],
            "text/plain": [
              "<IPython.core.display.HTML object>"
            ]
          },
          "metadata": {
            "tags": []
          }
        },
        {
          "output_type": "display_data",
          "data": {
            "text/html": [
              ""
            ],
            "text/plain": [
              "<IPython.core.display.HTML object>"
            ]
          },
          "metadata": {
            "tags": []
          }
        },
        {
          "output_type": "display_data",
          "data": {
            "text/html": [
              ""
            ],
            "text/plain": [
              "<IPython.core.display.HTML object>"
            ]
          },
          "metadata": {
            "tags": []
          }
        }
      ]
    },
    {
      "cell_type": "code",
      "metadata": {
        "id": "2RoXPdUWS2Hb",
        "outputId": "2b5a117b-e857-4e5f-969e-5032b5a8885c",
        "colab": {
          "base_uri": "https://localhost:8080/",
          "height": 1000
        }
      },
      "source": [
        "!pip install voila\n",
        "!jupyter serverextension enable voila —sys-prefix"
      ],
      "execution_count": null,
      "outputs": [
        {
          "output_type": "stream",
          "text": [
            "Collecting voila\n",
            "\u001b[?25l  Downloading https://files.pythonhosted.org/packages/06/09/d14b97b6f6efe33f8e5fd0e6c95881809c1906aba8c366ec343c9f6ba386/voila-0.2.3-py3-none-any.whl (6.9MB)\n",
            "\u001b[K     |████████████████████████████████| 6.9MB 2.5MB/s \n",
            "\u001b[?25hCollecting jupyter-server<2.0.0,>=0.3.0\n",
            "\u001b[?25l  Downloading https://files.pythonhosted.org/packages/34/3f/627202d2a042c2b1f1f4d9ebc8a932fb06e0a2dee06ebcf0bbca92011ffb/jupyter_server-1.0.5-py3-none-any.whl (196kB)\n",
            "\u001b[K     |████████████████████████████████| 204kB 29.9MB/s \n",
            "\u001b[?25hRequirement already satisfied: nbclient<0.6,>=0.4.0 in /usr/local/lib/python3.6/dist-packages (from voila) (0.5.0)\n",
            "Collecting jupyter-client<7,>=6.1.3\n",
            "\u001b[?25l  Downloading https://files.pythonhosted.org/packages/dc/41/9fa443d5ae8907dd8f7d12146cb0092dc053afd67b5b57e7e8786a328547/jupyter_client-6.1.7-py3-none-any.whl (108kB)\n",
            "\u001b[K     |████████████████████████████████| 112kB 44.5MB/s \n",
            "\u001b[?25hCollecting nbconvert<7,>=6.0.0\n",
            "\u001b[?25l  Downloading https://files.pythonhosted.org/packages/13/2f/acbe7006548f3914456ee47f97a2033b1b2f3daf921b12ac94105d87c163/nbconvert-6.0.7-py3-none-any.whl (552kB)\n",
            "\u001b[K     |████████████████████████████████| 552kB 50.0MB/s \n",
            "\u001b[?25hRequirement already satisfied: pyzmq>=17 in /usr/local/lib/python3.6/dist-packages (from jupyter-server<2.0.0,>=0.3.0->voila) (19.0.2)\n",
            "Requirement already satisfied: jinja2 in /usr/local/lib/python3.6/dist-packages (from jupyter-server<2.0.0,>=0.3.0->voila) (2.11.2)\n",
            "Requirement already satisfied: traitlets>=4.2.1 in /usr/local/lib/python3.6/dist-packages (from jupyter-server<2.0.0,>=0.3.0->voila) (4.3.3)\n",
            "Requirement already satisfied: ipython-genutils in /usr/local/lib/python3.6/dist-packages (from jupyter-server<2.0.0,>=0.3.0->voila) (0.2.0)\n",
            "Requirement already satisfied: tornado>=5.0 in /usr/local/lib/python3.6/dist-packages (from jupyter-server<2.0.0,>=0.3.0->voila) (5.1.1)\n",
            "Requirement already satisfied: nbformat in /usr/local/lib/python3.6/dist-packages (from jupyter-server<2.0.0,>=0.3.0->voila) (5.0.7)\n",
            "Requirement already satisfied: prometheus-client in /usr/local/lib/python3.6/dist-packages (from jupyter-server<2.0.0,>=0.3.0->voila) (0.8.0)\n",
            "Requirement already satisfied: jupyter-core>=4.4.0 in /usr/local/lib/python3.6/dist-packages (from jupyter-server<2.0.0,>=0.3.0->voila) (4.6.3)\n",
            "Requirement already satisfied: Send2Trash in /usr/local/lib/python3.6/dist-packages (from jupyter-server<2.0.0,>=0.3.0->voila) (1.5.0)\n",
            "Requirement already satisfied: terminado>=0.8.3 in /usr/local/lib/python3.6/dist-packages (from jupyter-server<2.0.0,>=0.3.0->voila) (0.9.1)\n",
            "Requirement already satisfied: nest-asyncio in /usr/local/lib/python3.6/dist-packages (from nbclient<0.6,>=0.4.0->voila) (1.4.1)\n",
            "Requirement already satisfied: async-generator in /usr/local/lib/python3.6/dist-packages (from nbclient<0.6,>=0.4.0->voila) (1.10)\n",
            "Requirement already satisfied: python-dateutil>=2.1 in /usr/local/lib/python3.6/dist-packages (from jupyter-client<7,>=6.1.3->voila) (2.8.1)\n",
            "Requirement already satisfied: pygments>=2.4.1 in /usr/local/lib/python3.6/dist-packages (from nbconvert<7,>=6.0.0->voila) (2.6.1)\n",
            "Requirement already satisfied: pandocfilters>=1.4.1 in /usr/local/lib/python3.6/dist-packages (from nbconvert<7,>=6.0.0->voila) (1.4.2)\n",
            "Requirement already satisfied: entrypoints>=0.2.2 in /usr/local/lib/python3.6/dist-packages (from nbconvert<7,>=6.0.0->voila) (0.3)\n",
            "Requirement already satisfied: bleach in /usr/local/lib/python3.6/dist-packages (from nbconvert<7,>=6.0.0->voila) (3.2.1)\n",
            "Requirement already satisfied: mistune<2,>=0.8.1 in /usr/local/lib/python3.6/dist-packages (from nbconvert<7,>=6.0.0->voila) (0.8.4)\n",
            "Requirement already satisfied: jupyterlab-pygments in /usr/local/lib/python3.6/dist-packages (from nbconvert<7,>=6.0.0->voila) (0.1.2)\n",
            "Requirement already satisfied: testpath in /usr/local/lib/python3.6/dist-packages (from nbconvert<7,>=6.0.0->voila) (0.4.4)\n",
            "Requirement already satisfied: defusedxml in /usr/local/lib/python3.6/dist-packages (from nbconvert<7,>=6.0.0->voila) (0.6.0)\n",
            "Requirement already satisfied: MarkupSafe>=0.23 in /usr/local/lib/python3.6/dist-packages (from jinja2->jupyter-server<2.0.0,>=0.3.0->voila) (1.1.1)\n",
            "Requirement already satisfied: decorator in /usr/local/lib/python3.6/dist-packages (from traitlets>=4.2.1->jupyter-server<2.0.0,>=0.3.0->voila) (4.4.2)\n",
            "Requirement already satisfied: six in /usr/local/lib/python3.6/dist-packages (from traitlets>=4.2.1->jupyter-server<2.0.0,>=0.3.0->voila) (1.15.0)\n",
            "Requirement already satisfied: jsonschema!=2.5.0,>=2.4 in /usr/local/lib/python3.6/dist-packages (from nbformat->jupyter-server<2.0.0,>=0.3.0->voila) (2.6.0)\n",
            "Requirement already satisfied: ptyprocess; os_name != \"nt\" in /usr/local/lib/python3.6/dist-packages (from terminado>=0.8.3->jupyter-server<2.0.0,>=0.3.0->voila) (0.6.0)\n",
            "Requirement already satisfied: webencodings in /usr/local/lib/python3.6/dist-packages (from bleach->nbconvert<7,>=6.0.0->voila) (0.5.1)\n",
            "Requirement already satisfied: packaging in /usr/local/lib/python3.6/dist-packages (from bleach->nbconvert<7,>=6.0.0->voila) (20.4)\n",
            "Requirement already satisfied: pyparsing>=2.0.2 in /usr/local/lib/python3.6/dist-packages (from packaging->bleach->nbconvert<7,>=6.0.0->voila) (2.4.7)\n",
            "\u001b[31mERROR: nbdev 1.1.4 has requirement nbconvert<6, but you'll have nbconvert 6.0.7 which is incompatible.\u001b[0m\n",
            "Installing collected packages: jupyter-client, nbconvert, jupyter-server, voila\n",
            "  Found existing installation: jupyter-client 5.3.5\n",
            "    Uninstalling jupyter-client-5.3.5:\n",
            "      Successfully uninstalled jupyter-client-5.3.5\n",
            "  Found existing installation: nbconvert 5.6.1\n",
            "    Uninstalling nbconvert-5.6.1:\n",
            "      Successfully uninstalled nbconvert-5.6.1\n",
            "Successfully installed jupyter-client-6.1.7 jupyter-server-1.0.5 nbconvert-6.0.7 voila-0.2.3\n"
          ],
          "name": "stdout"
        },
        {
          "output_type": "display_data",
          "data": {
            "application/vnd.colab-display-data+json": {
              "pip_warning": {
                "packages": [
                  "jupyter_client",
                  "nbconvert"
                ]
              }
            }
          },
          "metadata": {
            "tags": []
          }
        },
        {
          "output_type": "stream",
          "text": [
            "Enabling: voila\n",
            "- Writing config: /root/.jupyter\n",
            "    - Validating...\n",
            "Error loading server extension voila\n",
            "     \u001b[31m X\u001b[0m is voila importable?\n",
            "Enabling: —sys-prefix\n",
            "- Writing config: /root/.jupyter\n",
            "    - Validating...\n",
            "Error loading server extension —sys-prefix\n",
            "     \u001b[31m X\u001b[0m is —sys-prefix importable?\n"
          ],
          "name": "stdout"
        }
      ]
    },
    {
      "cell_type": "code",
      "metadata": {
        "id": "hHslsu8yPeeI"
      },
      "source": [
        ""
      ],
      "execution_count": null,
      "outputs": []
    }
  ]
}
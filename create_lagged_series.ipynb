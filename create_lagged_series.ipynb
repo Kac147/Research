{
 "cells": [
  {
   "cell_type": "code",
   "execution_count": 1,
   "metadata": {},
   "outputs": [],
   "source": [
    "def create_lagged_series(symbol, bars, start_date, end_date, lags=5, lags_hilo=5):\n",
    "    \"\"\"This creates a pandas DataFrame that stores the percentage returns of the \n",
    "    adjusted closing value of a stock obtained from Stooq, along with \n",
    "    a number of lagged returns from the prior trading days (lags defaults to 5 days).\n",
    "    Trading volume, as well as the Direction from the previous day, are also included.\"\"\"\n",
    "\n",
    "    # Create the new lagged DataFrame\n",
    "    tslag = pd.DataFrame(index=bars.index)\n",
    "    tslag[\"Today\"] = bars[\"Close\"]\n",
    "    tslag[\"Volume\"] = bars[\"Volume\"]\n",
    "    tslag[\"HiLo\"] = bars[\"HiLo\"]\n",
    "    \n",
    "    # Create the shifted lag series of prior trading period close and hilo values\n",
    "    for lag_close in lags:\n",
    "        tslag[\"Lag%s\" % str(lag_close)] = bars[\"Close\"].shift(lag_close)\n",
    "        \n",
    "    for lag_hilo in lags_hilo:   \n",
    "        tslag[\"HiLo Lag%s\" % str(lag_hilo)] = bars[\"HiLo\"].shift(lag_hilo)\n",
    "\n",
    "    # Create the returns DataFrame\n",
    "    tsret = pd.DataFrame(index=tslag.index)\n",
    "    tsret[\"Volume\"] = tslag[\"Volume\"]\n",
    "    tsret[\"Today\"] = tslag[\"Today\"].pct_change()*100.0\n",
    "\n",
    "    for lag_close in lags:\n",
    "        tsret[\"Lag%s\" % str(lag_close)] = tslag[\"Lag%s\" % str(lag_close)]\n",
    "    \n",
    "    for lag_hilo in lags_hilo:\n",
    "        tsret[\"HiLo Lag%s\" % str(lag_hilo)] = tslag[\"HiLo Lag%s\" % str(lag_hilo)]\n",
    "    \n",
    "    # 2DO: check if this is still necessary\n",
    "    # If any of the values of percentage returns equal zero, set them to\n",
    "    # a small number (stops issues with QDA model in scikit-learn)\n",
    "    for i,x in enumerate(tsret[\"Today\"]):\n",
    "        if (abs(x) < 0.0001):\n",
    "            tsret[\"Today\"][i] = 0.0001\n",
    "\n",
    "    # Create the lagged percentage returns columns\n",
    "    for lag3 in lags:\n",
    "        tsret[\"Lag%s\" % str(lag3)] = tslag[\"Lag%s\" % str(lag3)].pct_change()*100.0\n",
    "    \n",
    "    # Create the lagged average volume columns\n",
    "    tsret[\"avg_vol_lags\"] = tsret[\"Volume\"].rolling(int(lags[-1]), min_periods=1).mean()    \n",
    "        \n",
    "    # Create the \"Direction\" column (+1 or -1) indicating an up/down day\n",
    "    tsret[\"Direction\"] = np.sign(tsret[\"Today\"])\n",
    "    tsret = tsret[tsret.index > str(start_date)]\n",
    "    return tsret"
   ]
  },
  {
   "cell_type": "code",
   "execution_count": null,
   "metadata": {},
   "outputs": [],
   "source": []
  }
 ],
 "metadata": {
  "kernelspec": {
   "display_name": "Python 3",
   "language": "python",
   "name": "python3"
  },
  "language_info": {
   "codemirror_mode": {
    "name": "ipython",
    "version": 3
   },
   "file_extension": ".py",
   "mimetype": "text/x-python",
   "name": "python",
   "nbconvert_exporter": "python",
   "pygments_lexer": "ipython3",
   "version": "3.7.7"
  }
 },
 "nbformat": 4,
 "nbformat_minor": 4
}
